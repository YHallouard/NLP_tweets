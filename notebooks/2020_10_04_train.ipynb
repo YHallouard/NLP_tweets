{
 "cells": [
  {
   "cell_type": "code",
   "execution_count": 1,
   "metadata": {},
   "outputs": [
    {
     "name": "stderr",
     "output_type": "stream",
     "text": [
      "[nltk_data] Downloading package stopwords to\n",
      "[nltk_data]     /Users/yannhallouard/nltk_data...\n",
      "[nltk_data]   Package stopwords is already up-to-date!\n"
     ]
    }
   ],
   "source": [
    "from nlp_tweets.preprocess import clean_text, get_sequences, get_embedding_matrix\n",
    "from nlp_tweets.model import get_model\n",
    "from nlp_tweets.eda import plot_roc_curve_mean, get_categorial_confusion_matrix\n",
    "import pandas as pd\n",
    "from sklearn.model_selection import train_test_split\n",
    "from sklearn.metrics import confusion_matrix, accuracy_score, roc_auc_score, roc_curve, auc\n",
    "from gensim.models import KeyedVectors\n",
    "import matplotlib.pyplot as plt\n",
    "import seaborn as sns\n",
    "import numpy as np"
   ]
  },
  {
   "cell_type": "code",
   "execution_count": 2,
   "metadata": {},
   "outputs": [],
   "source": [
    "PATH_RAW = '../data/raw/'\n",
    "PATH_PROCESSED = '../data/processed/'\n",
    "\n",
    "TRAIN_COLUMNS = ['id', 'text', 'target']\n",
    "TEST_COLUMNS = ['id', 'text']\n",
    "MAX_NB_WORDS = 20000\n",
    "EMBEDDING_DIM = 300\n",
    "MAX_SEQUENCE_LENGTH = 50"
   ]
  },
  {
   "cell_type": "markdown",
   "metadata": {},
   "source": [
    "# Loading"
   ]
  },
  {
   "cell_type": "code",
   "execution_count": 3,
   "metadata": {},
   "outputs": [
    {
     "data": {
      "text/html": [
       "<div>\n",
       "<style scoped>\n",
       "    .dataframe tbody tr th:only-of-type {\n",
       "        vertical-align: middle;\n",
       "    }\n",
       "\n",
       "    .dataframe tbody tr th {\n",
       "        vertical-align: top;\n",
       "    }\n",
       "\n",
       "    .dataframe thead th {\n",
       "        text-align: right;\n",
       "    }\n",
       "</style>\n",
       "<table border=\"1\" class=\"dataframe\">\n",
       "  <thead>\n",
       "    <tr style=\"text-align: right;\">\n",
       "      <th></th>\n",
       "      <th>id</th>\n",
       "      <th>text</th>\n",
       "      <th>target</th>\n",
       "    </tr>\n",
       "  </thead>\n",
       "  <tbody>\n",
       "    <tr>\n",
       "      <th>0</th>\n",
       "      <td>1</td>\n",
       "      <td>Our Deeds are the Reason of this #earthquake M...</td>\n",
       "      <td>1</td>\n",
       "    </tr>\n",
       "    <tr>\n",
       "      <th>1</th>\n",
       "      <td>4</td>\n",
       "      <td>Forest fire near La Ronge Sask. Canada</td>\n",
       "      <td>1</td>\n",
       "    </tr>\n",
       "    <tr>\n",
       "      <th>2</th>\n",
       "      <td>5</td>\n",
       "      <td>All residents asked to 'shelter in place' are ...</td>\n",
       "      <td>1</td>\n",
       "    </tr>\n",
       "    <tr>\n",
       "      <th>3</th>\n",
       "      <td>6</td>\n",
       "      <td>13,000 people receive #wildfires evacuation or...</td>\n",
       "      <td>1</td>\n",
       "    </tr>\n",
       "    <tr>\n",
       "      <th>4</th>\n",
       "      <td>7</td>\n",
       "      <td>Just got sent this photo from Ruby #Alaska as ...</td>\n",
       "      <td>1</td>\n",
       "    </tr>\n",
       "  </tbody>\n",
       "</table>\n",
       "</div>"
      ],
      "text/plain": [
       "   id                                               text  target\n",
       "0   1  Our Deeds are the Reason of this #earthquake M...       1\n",
       "1   4             Forest fire near La Ronge Sask. Canada       1\n",
       "2   5  All residents asked to 'shelter in place' are ...       1\n",
       "3   6  13,000 people receive #wildfires evacuation or...       1\n",
       "4   7  Just got sent this photo from Ruby #Alaska as ...       1"
      ]
     },
     "execution_count": 3,
     "metadata": {},
     "output_type": "execute_result"
    }
   ],
   "source": [
    "tweets_df = pd.read_csv(PATH_RAW + 'train.csv')\n",
    "tweets_df = tweets_df[TRAIN_COLUMNS]\n",
    "tweets_df.head()"
   ]
  },
  {
   "cell_type": "code",
   "execution_count": 4,
   "metadata": {},
   "outputs": [],
   "source": [
    "tweets_test_df = pd.read_csv(PATH_RAW + 'test.csv')\n",
    "tweets_test_df = tweets_test_df[TEST_COLUMNS]"
   ]
  },
  {
   "cell_type": "markdown",
   "metadata": {},
   "source": [
    "# Preprocessing"
   ]
  },
  {
   "cell_type": "code",
   "execution_count": 5,
   "metadata": {},
   "outputs": [],
   "source": [
    "tweets_df['text'] = tweets_df['text'].map(lambda x: clean_text(x))"
   ]
  },
  {
   "cell_type": "code",
   "execution_count": 6,
   "metadata": {},
   "outputs": [],
   "source": [
    "data, tokenizer = get_sequences(vocabulary_size=MAX_NB_WORDS, maxlen=MAX_SEQUENCE_LENGTH, texts=tweets_df['text'])"
   ]
  },
  {
   "cell_type": "code",
   "execution_count": 7,
   "metadata": {},
   "outputs": [],
   "source": [
    "test_data, _ = get_sequences(vocabulary_size=MAX_NB_WORDS, maxlen=MAX_SEQUENCE_LENGTH, \n",
    "                          texts=tweets_test_df['text'], tokenizer=tokenizer)"
   ]
  },
  {
   "cell_type": "code",
   "execution_count": 8,
   "metadata": {},
   "outputs": [],
   "source": [
    "pretrained_embeddings_path = PATH_RAW + \"GoogleNews-vectors-negative300.bin\"\n",
    "word2vec = KeyedVectors.load_word2vec_format(pretrained_embeddings_path, binary=True)"
   ]
  },
  {
   "cell_type": "code",
   "execution_count": 9,
   "metadata": {},
   "outputs": [],
   "source": [
    "embedding_matrix = get_embedding_matrix(tokenizer=tokenizer, \n",
    "                                        word2vec=word2vec, \n",
    "                                        max_nb_words=MAX_NB_WORDS, \n",
    "                                        enbedding_dim=EMBEDDING_DIM)"
   ]
  },
  {
   "cell_type": "markdown",
   "metadata": {},
   "source": [
    "# Train test split"
   ]
  },
  {
   "cell_type": "code",
   "execution_count": 10,
   "metadata": {},
   "outputs": [
    {
     "name": "stdout",
     "output_type": "stream",
     "text": [
      "(4567, 50) (2284, 50) (762, 50)\n"
     ]
    }
   ],
   "source": [
    "X_train, X_val, y_train, y_val = train_test_split(data, tweets_df['target'], test_size=0.4)\n",
    "X_val, X_test, y_val, y_test = train_test_split(X_val, y_val)\n",
    "\n",
    "print(X_train.shape, X_val.shape, X_test.shape)"
   ]
  },
  {
   "cell_type": "markdown",
   "metadata": {},
   "source": [
    "# Create Model"
   ]
  },
  {
   "cell_type": "code",
   "execution_count": 11,
   "metadata": {},
   "outputs": [
    {
     "name": "stdout",
     "output_type": "stream",
     "text": [
      "Model: \"functional_1\"\n",
      "_________________________________________________________________\n",
      "Layer (type)                 Output Shape              Param #   \n",
      "=================================================================\n",
      "input_1 (InputLayer)         [(None, 50)]              0         \n",
      "_________________________________________________________________\n",
      "embedding (Embedding)        (None, 50, 300)           6000000   \n",
      "_________________________________________________________________\n",
      "gru (GRU)                    (None, 50, 128)           165120    \n",
      "_________________________________________________________________\n",
      "gru_1 (GRU)                  (None, 50, 64)            37248     \n",
      "_________________________________________________________________\n",
      "gru_2 (GRU)                  (None, 50, 32)            9408      \n",
      "_________________________________________________________________\n",
      "time_distributed (TimeDistri (None, 50, 32)            1056      \n",
      "_________________________________________________________________\n",
      "dropout (Dropout)            (None, 50, 32)            0         \n",
      "_________________________________________________________________\n",
      "time_distributed_1 (TimeDist (None, 50, 32)            1056      \n",
      "_________________________________________________________________\n",
      "time_distributed_2 (TimeDist (None, 50, 16)            528       \n",
      "_________________________________________________________________\n",
      "dropout_1 (Dropout)          (None, 50, 16)            0         \n",
      "_________________________________________________________________\n",
      "time_distributed_3 (TimeDist (None, 50, 16)            272       \n",
      "_________________________________________________________________\n",
      "flatten (Flatten)            (None, 800)               0         \n",
      "_________________________________________________________________\n",
      "dense_4 (Dense)              (None, 100)               80100     \n",
      "_________________________________________________________________\n",
      "activation (Activation)      (None, 100)               0         \n",
      "_________________________________________________________________\n",
      "dropout_2 (Dropout)          (None, 100)               0         \n",
      "_________________________________________________________________\n",
      "batch_normalization (BatchNo (None, 100)               400       \n",
      "_________________________________________________________________\n",
      "dense_5 (Dense)              (None, 10)                1010      \n",
      "_________________________________________________________________\n",
      "activation_1 (Activation)    (None, 10)                0         \n",
      "_________________________________________________________________\n",
      "dropout_3 (Dropout)          (None, 10)                0         \n",
      "_________________________________________________________________\n",
      "batch_normalization_1 (Batch (None, 10)                40        \n",
      "_________________________________________________________________\n",
      "dense_6 (Dense)              (None, 1)                 11        \n",
      "_________________________________________________________________\n",
      "strong_out (Activation)      (None, 1)                 0         \n",
      "=================================================================\n",
      "Total params: 6,296,249\n",
      "Trainable params: 296,029\n",
      "Non-trainable params: 6,000,220\n",
      "_________________________________________________________________\n"
     ]
    }
   ],
   "source": [
    "model = get_model(vocabulary_size=MAX_NB_WORDS, embeding_dim=EMBEDDING_DIM, \n",
    "                  max_sequence_length=MAX_SEQUENCE_LENGTH,_rnn_nb=[128, 64, 32], _fc_nb=[32, 16], dropout_rate=0.5) \n",
    "model.summary()"
   ]
  },
  {
   "cell_type": "markdown",
   "metadata": {},
   "source": [
    "# Train"
   ]
  },
  {
   "cell_type": "code",
   "execution_count": 12,
   "metadata": {
    "scrolled": true
   },
   "outputs": [
    {
     "name": "stdout",
     "output_type": "stream",
     "text": [
      "Epoch 1/100\n",
      "72/72 [==============================] - 20s 271ms/step - loss: 0.8531 - accuracy: 0.5220 - val_loss: 0.7061 - val_accuracy: 0.5635\n",
      "Epoch 2/100\n",
      "72/72 [==============================] - 18s 245ms/step - loss: 0.7876 - accuracy: 0.5485 - val_loss: 0.6665 - val_accuracy: 0.6042\n",
      "Epoch 3/100\n",
      "72/72 [==============================] - 18s 247ms/step - loss: 0.7401 - accuracy: 0.5673 - val_loss: 0.7369 - val_accuracy: 0.5285\n",
      "Epoch 4/100\n",
      "72/72 [==============================] - 18s 250ms/step - loss: 0.7194 - accuracy: 0.5704 - val_loss: 0.6786 - val_accuracy: 0.6230\n",
      "Epoch 5/100\n",
      "72/72 [==============================] - 19s 263ms/step - loss: 0.6873 - accuracy: 0.5943 - val_loss: 0.7868 - val_accuracy: 0.5665\n",
      "Epoch 6/100\n",
      "72/72 [==============================] - 18s 249ms/step - loss: 0.6777 - accuracy: 0.5975 - val_loss: 0.7460 - val_accuracy: 0.5595\n",
      "Epoch 7/100\n",
      "72/72 [==============================] - 18s 251ms/step - loss: 0.6517 - accuracy: 0.6214 - val_loss: 0.5963 - val_accuracy: 0.6826\n",
      "Epoch 8/100\n",
      "72/72 [==============================] - 18s 246ms/step - loss: 0.6421 - accuracy: 0.6418 - val_loss: 0.6116 - val_accuracy: 0.6948\n",
      "Epoch 9/100\n",
      "72/72 [==============================] - 18s 248ms/step - loss: 0.6407 - accuracy: 0.6475 - val_loss: 0.5840 - val_accuracy: 0.7062\n",
      "Epoch 10/100\n",
      "72/72 [==============================] - 19s 257ms/step - loss: 0.6278 - accuracy: 0.6551 - val_loss: 0.5836 - val_accuracy: 0.7123\n",
      "Epoch 11/100\n",
      "72/72 [==============================] - 18s 251ms/step - loss: 0.6267 - accuracy: 0.6641 - val_loss: 0.6046 - val_accuracy: 0.6773\n",
      "Epoch 12/100\n",
      "72/72 [==============================] - 18s 256ms/step - loss: 0.6181 - accuracy: 0.6742 - val_loss: 0.6058 - val_accuracy: 0.6769\n",
      "Epoch 13/100\n",
      "72/72 [==============================] - 18s 251ms/step - loss: 0.6125 - accuracy: 0.6748 - val_loss: 0.5881 - val_accuracy: 0.7145\n",
      "Epoch 14/100\n",
      "72/72 [==============================] - 18s 256ms/step - loss: 0.6176 - accuracy: 0.6670 - val_loss: 0.5828 - val_accuracy: 0.7128\n",
      "Epoch 15/100\n",
      "72/72 [==============================] - 20s 272ms/step - loss: 0.6082 - accuracy: 0.6880 - val_loss: 0.5980 - val_accuracy: 0.7053\n",
      "Epoch 16/100\n",
      "72/72 [==============================] - 19s 259ms/step - loss: 0.6125 - accuracy: 0.6797 - val_loss: 0.5776 - val_accuracy: 0.7220\n",
      "Epoch 17/100\n",
      "72/72 [==============================] - 19s 261ms/step - loss: 0.6064 - accuracy: 0.6970 - val_loss: 0.5774 - val_accuracy: 0.7163\n",
      "Epoch 18/100\n",
      "72/72 [==============================] - 18s 251ms/step - loss: 0.6115 - accuracy: 0.6847 - val_loss: 0.5808 - val_accuracy: 0.7102\n",
      "Epoch 19/100\n",
      "72/72 [==============================] - 18s 250ms/step - loss: 0.6025 - accuracy: 0.6930 - val_loss: 0.5947 - val_accuracy: 0.6931\n",
      "Epoch 20/100\n",
      "72/72 [==============================] - 18s 251ms/step - loss: 0.6045 - accuracy: 0.6924 - val_loss: 0.5845 - val_accuracy: 0.7110\n",
      "Epoch 21/100\n",
      "72/72 [==============================] - 18s 252ms/step - loss: 0.5981 - accuracy: 0.6963 - val_loss: 0.5774 - val_accuracy: 0.7246\n",
      "Epoch 22/100\n",
      "72/72 [==============================] - 18s 250ms/step - loss: 0.6030 - accuracy: 0.6989 - val_loss: 0.5881 - val_accuracy: 0.7102\n",
      "Epoch 23/100\n",
      "72/72 [==============================] - 18s 249ms/step - loss: 0.5949 - accuracy: 0.6996 - val_loss: 0.5855 - val_accuracy: 0.7154\n",
      "Epoch 24/100\n",
      "72/72 [==============================] - 18s 252ms/step - loss: 0.5962 - accuracy: 0.7013 - val_loss: 0.6587 - val_accuracy: 0.6375\n",
      "Epoch 25/100\n",
      "72/72 [==============================] - 18s 253ms/step - loss: 0.5898 - accuracy: 0.7079 - val_loss: 0.5838 - val_accuracy: 0.7167\n",
      "Epoch 26/100\n",
      "72/72 [==============================] - 18s 252ms/step - loss: 0.5899 - accuracy: 0.7079 - val_loss: 0.5785 - val_accuracy: 0.7150\n",
      "Epoch 27/100\n",
      "72/72 [==============================] - 19s 258ms/step - loss: 0.5952 - accuracy: 0.7046 - val_loss: 0.5907 - val_accuracy: 0.7110\n",
      "Epoch 28/100\n",
      "72/72 [==============================] - 19s 270ms/step - loss: 0.5872 - accuracy: 0.7138 - val_loss: 0.5790 - val_accuracy: 0.7224\n",
      "Epoch 29/100\n",
      "72/72 [==============================] - 18s 251ms/step - loss: 0.5908 - accuracy: 0.7035 - val_loss: 0.5908 - val_accuracy: 0.7071\n",
      "Epoch 30/100\n",
      "72/72 [==============================] - 18s 249ms/step - loss: 0.5823 - accuracy: 0.7173 - val_loss: 0.5806 - val_accuracy: 0.7158\n",
      "Epoch 31/100\n",
      "72/72 [==============================] - 18s 256ms/step - loss: 0.5778 - accuracy: 0.7178 - val_loss: 0.5778 - val_accuracy: 0.7246\n",
      "Epoch 32/100\n",
      "72/72 [==============================] - 18s 251ms/step - loss: 0.5852 - accuracy: 0.7160 - val_loss: 0.5780 - val_accuracy: 0.7211\n",
      "Epoch 33/100\n",
      "72/72 [==============================] - 18s 247ms/step - loss: 0.5881 - accuracy: 0.7123 - val_loss: 0.5847 - val_accuracy: 0.7080\n",
      "Epoch 34/100\n",
      "72/72 [==============================] - 19s 257ms/step - loss: 0.5781 - accuracy: 0.7252 - val_loss: 0.5833 - val_accuracy: 0.7132\n",
      "Epoch 35/100\n",
      "72/72 [==============================] - 18s 250ms/step - loss: 0.5784 - accuracy: 0.7175 - val_loss: 0.6001 - val_accuracy: 0.7071\n",
      "Epoch 36/100\n",
      "72/72 [==============================] - 18s 248ms/step - loss: 0.5764 - accuracy: 0.7197 - val_loss: 0.5702 - val_accuracy: 0.7224\n",
      "Epoch 37/100\n",
      "72/72 [==============================] - 19s 259ms/step - loss: 0.5771 - accuracy: 0.7259 - val_loss: 0.5781 - val_accuracy: 0.7207\n",
      "Epoch 38/100\n",
      "72/72 [==============================] - 18s 248ms/step - loss: 0.5800 - accuracy: 0.7210 - val_loss: 0.5870 - val_accuracy: 0.7132\n",
      "Epoch 39/100\n",
      "72/72 [==============================] - 18s 250ms/step - loss: 0.5754 - accuracy: 0.7287 - val_loss: 0.5800 - val_accuracy: 0.7180\n",
      "Epoch 40/100\n",
      "72/72 [==============================] - 19s 267ms/step - loss: 0.5799 - accuracy: 0.7219 - val_loss: 0.5773 - val_accuracy: 0.7224\n",
      "Epoch 41/100\n",
      "72/72 [==============================] - 19s 265ms/step - loss: 0.5627 - accuracy: 0.7326 - val_loss: 0.5809 - val_accuracy: 0.7158\n",
      "Epoch 42/100\n",
      "72/72 [==============================] - 18s 247ms/step - loss: 0.5698 - accuracy: 0.7241 - val_loss: 0.5929 - val_accuracy: 0.6988\n",
      "Epoch 43/100\n",
      "72/72 [==============================] - 18s 248ms/step - loss: 0.5725 - accuracy: 0.7256 - val_loss: 0.5749 - val_accuracy: 0.7202\n",
      "Epoch 44/100\n",
      "72/72 [==============================] - 18s 255ms/step - loss: 0.5729 - accuracy: 0.7215 - val_loss: 0.5989 - val_accuracy: 0.6979\n",
      "Epoch 45/100\n",
      "72/72 [==============================] - 18s 253ms/step - loss: 0.5670 - accuracy: 0.7280 - val_loss: 0.5748 - val_accuracy: 0.7233\n",
      "Epoch 46/100\n",
      "72/72 [==============================] - 18s 249ms/step - loss: 0.5649 - accuracy: 0.7351 - val_loss: 0.6057 - val_accuracy: 0.7010\n",
      "Epoch 47/100\n",
      "72/72 [==============================] - 18s 253ms/step - loss: 0.5646 - accuracy: 0.7377 - val_loss: 0.5687 - val_accuracy: 0.7259\n",
      "Epoch 48/100\n",
      "72/72 [==============================] - 18s 253ms/step - loss: 0.5593 - accuracy: 0.7392 - val_loss: 0.5650 - val_accuracy: 0.7303\n",
      "Epoch 49/100\n",
      "72/72 [==============================] - 18s 250ms/step - loss: 0.5608 - accuracy: 0.7291 - val_loss: 0.5841 - val_accuracy: 0.7040\n",
      "Epoch 50/100\n",
      "72/72 [==============================] - 18s 253ms/step - loss: 0.5601 - accuracy: 0.7390 - val_loss: 0.5728 - val_accuracy: 0.7220\n",
      "Epoch 51/100\n",
      "72/72 [==============================] - 18s 255ms/step - loss: 0.5567 - accuracy: 0.7346 - val_loss: 0.5843 - val_accuracy: 0.7132\n",
      "Epoch 52/100\n",
      "72/72 [==============================] - 18s 248ms/step - loss: 0.5649 - accuracy: 0.7368 - val_loss: 0.6196 - val_accuracy: 0.6896\n",
      "Epoch 53/100\n",
      "72/72 [==============================] - 18s 247ms/step - loss: 0.5580 - accuracy: 0.7416 - val_loss: 0.5597 - val_accuracy: 0.7364\n",
      "Epoch 54/100\n",
      "72/72 [==============================] - 19s 259ms/step - loss: 0.5422 - accuracy: 0.7475 - val_loss: 0.5961 - val_accuracy: 0.7119\n",
      "Epoch 55/100\n",
      "72/72 [==============================] - 18s 250ms/step - loss: 0.5458 - accuracy: 0.7486 - val_loss: 0.5831 - val_accuracy: 0.7141\n",
      "Epoch 56/100\n",
      "72/72 [==============================] - 18s 255ms/step - loss: 0.5479 - accuracy: 0.7429 - val_loss: 0.5697 - val_accuracy: 0.7272\n",
      "Epoch 57/100\n"
     ]
    },
    {
     "name": "stdout",
     "output_type": "stream",
     "text": [
      "72/72 [==============================] - 18s 249ms/step - loss: 0.5486 - accuracy: 0.7449 - val_loss: 0.5779 - val_accuracy: 0.7329\n",
      "Epoch 58/100\n",
      "72/72 [==============================] - 18s 247ms/step - loss: 0.5494 - accuracy: 0.7528 - val_loss: 0.6039 - val_accuracy: 0.6988\n",
      "Epoch 59/100\n",
      "72/72 [==============================] - 18s 246ms/step - loss: 0.5381 - accuracy: 0.7616 - val_loss: 0.5615 - val_accuracy: 0.7369\n",
      "Epoch 60/100\n",
      "72/72 [==============================] - 18s 249ms/step - loss: 0.5561 - accuracy: 0.7445 - val_loss: 0.5682 - val_accuracy: 0.7246\n",
      "Epoch 61/100\n",
      "72/72 [==============================] - 18s 251ms/step - loss: 0.5412 - accuracy: 0.7478 - val_loss: 0.5609 - val_accuracy: 0.7347\n",
      "Epoch 62/100\n",
      "72/72 [==============================] - 18s 249ms/step - loss: 0.5470 - accuracy: 0.7489 - val_loss: 0.5812 - val_accuracy: 0.7194\n",
      "Epoch 63/100\n",
      "72/72 [==============================] - 18s 246ms/step - loss: 0.5332 - accuracy: 0.7554 - val_loss: 0.5584 - val_accuracy: 0.7356\n",
      "Epoch 64/100\n",
      "72/72 [==============================] - 18s 254ms/step - loss: 0.5448 - accuracy: 0.7467 - val_loss: 0.5649 - val_accuracy: 0.7285\n",
      "Epoch 65/100\n",
      "72/72 [==============================] - 18s 245ms/step - loss: 0.5388 - accuracy: 0.7532 - val_loss: 0.5701 - val_accuracy: 0.7264\n",
      "Epoch 66/100\n",
      "72/72 [==============================] - 18s 245ms/step - loss: 0.5362 - accuracy: 0.7543 - val_loss: 0.5672 - val_accuracy: 0.7224\n",
      "Epoch 67/100\n",
      "72/72 [==============================] - 18s 250ms/step - loss: 0.5251 - accuracy: 0.7587 - val_loss: 0.5738 - val_accuracy: 0.7356\n",
      "Epoch 68/100\n",
      "72/72 [==============================] - 18s 248ms/step - loss: 0.5243 - accuracy: 0.7589 - val_loss: 0.5764 - val_accuracy: 0.7154\n",
      "Epoch 69/100\n",
      "72/72 [==============================] - 18s 251ms/step - loss: 0.5302 - accuracy: 0.7622 - val_loss: 0.5751 - val_accuracy: 0.7246\n",
      "Epoch 70/100\n",
      "72/72 [==============================] - 18s 248ms/step - loss: 0.5242 - accuracy: 0.7659 - val_loss: 0.5765 - val_accuracy: 0.7285\n",
      "Epoch 71/100\n",
      "72/72 [==============================] - 18s 251ms/step - loss: 0.5235 - accuracy: 0.7701 - val_loss: 0.5613 - val_accuracy: 0.7338\n",
      "Epoch 72/100\n",
      "72/72 [==============================] - 18s 252ms/step - loss: 0.5285 - accuracy: 0.7646 - val_loss: 0.5671 - val_accuracy: 0.7360\n",
      "Epoch 73/100\n",
      "72/72 [==============================] - 18s 247ms/step - loss: 0.5186 - accuracy: 0.7716 - val_loss: 0.5528 - val_accuracy: 0.7312\n",
      "Epoch 74/100\n",
      "72/72 [==============================] - 18s 253ms/step - loss: 0.5221 - accuracy: 0.7683 - val_loss: 0.5876 - val_accuracy: 0.7242\n",
      "Epoch 75/100\n",
      "72/72 [==============================] - 18s 244ms/step - loss: 0.5233 - accuracy: 0.7692 - val_loss: 0.5583 - val_accuracy: 0.7369\n",
      "Epoch 76/100\n",
      "72/72 [==============================] - 17s 242ms/step - loss: 0.5195 - accuracy: 0.7666 - val_loss: 0.5628 - val_accuracy: 0.7412\n",
      "Epoch 77/100\n",
      "72/72 [==============================] - 18s 245ms/step - loss: 0.5223 - accuracy: 0.7690 - val_loss: 0.5525 - val_accuracy: 0.7373\n",
      "Epoch 78/100\n",
      "72/72 [==============================] - 18s 247ms/step - loss: 0.5164 - accuracy: 0.7635 - val_loss: 0.5538 - val_accuracy: 0.7426\n",
      "Epoch 79/100\n",
      "72/72 [==============================] - 17s 241ms/step - loss: 0.5196 - accuracy: 0.7686 - val_loss: 0.5586 - val_accuracy: 0.7364\n",
      "Epoch 80/100\n",
      "72/72 [==============================] - 18s 244ms/step - loss: 0.5137 - accuracy: 0.7778 - val_loss: 0.5523 - val_accuracy: 0.7487\n",
      "Epoch 81/100\n",
      "72/72 [==============================] - 18s 250ms/step - loss: 0.5104 - accuracy: 0.7791 - val_loss: 0.5899 - val_accuracy: 0.7176\n",
      "Epoch 82/100\n",
      "72/72 [==============================] - 18s 249ms/step - loss: 0.5095 - accuracy: 0.7771 - val_loss: 0.5756 - val_accuracy: 0.7303\n",
      "Epoch 83/100\n",
      "72/72 [==============================] - 18s 243ms/step - loss: 0.5147 - accuracy: 0.7732 - val_loss: 0.5805 - val_accuracy: 0.7268\n",
      "Epoch 84/100\n",
      "72/72 [==============================] - 18s 247ms/step - loss: 0.5175 - accuracy: 0.7736 - val_loss: 0.5538 - val_accuracy: 0.7417\n",
      "Epoch 85/100\n",
      "72/72 [==============================] - 18s 244ms/step - loss: 0.5183 - accuracy: 0.7716 - val_loss: 0.5631 - val_accuracy: 0.7456\n",
      "Epoch 86/100\n",
      "72/72 [==============================] - 18s 245ms/step - loss: 0.5074 - accuracy: 0.7810 - val_loss: 0.5531 - val_accuracy: 0.7382\n",
      "Epoch 87/100\n",
      "72/72 [==============================] - 17s 242ms/step - loss: 0.5074 - accuracy: 0.7758 - val_loss: 0.5683 - val_accuracy: 0.7478\n",
      "Epoch 88/100\n",
      "72/72 [==============================] - 18s 250ms/step - loss: 0.5174 - accuracy: 0.7714 - val_loss: 0.6145 - val_accuracy: 0.7053\n",
      "Epoch 89/100\n",
      "72/72 [==============================] - 18s 244ms/step - loss: 0.5065 - accuracy: 0.7782 - val_loss: 0.5525 - val_accuracy: 0.7456\n",
      "Epoch 90/100\n",
      "72/72 [==============================] - 18s 244ms/step - loss: 0.5054 - accuracy: 0.7799 - val_loss: 0.5538 - val_accuracy: 0.7500\n",
      "Epoch 91/100\n",
      "72/72 [==============================] - 18s 253ms/step - loss: 0.5040 - accuracy: 0.7778 - val_loss: 0.5642 - val_accuracy: 0.7426\n",
      "Epoch 92/100\n",
      "72/72 [==============================] - 18s 246ms/step - loss: 0.5192 - accuracy: 0.7668 - val_loss: 0.6158 - val_accuracy: 0.7049\n",
      "Epoch 93/100\n",
      "72/72 [==============================] - 17s 240ms/step - loss: 0.5030 - accuracy: 0.7806 - val_loss: 0.5738 - val_accuracy: 0.7342\n",
      "Epoch 94/100\n",
      "72/72 [==============================] - 17s 241ms/step - loss: 0.5141 - accuracy: 0.7782 - val_loss: 0.5939 - val_accuracy: 0.7220\n",
      "Epoch 95/100\n",
      "72/72 [==============================] - 18s 249ms/step - loss: 0.5121 - accuracy: 0.7773 - val_loss: 0.6494 - val_accuracy: 0.6935\n",
      "Epoch 96/100\n",
      "72/72 [==============================] - 18s 243ms/step - loss: 0.5040 - accuracy: 0.7852 - val_loss: 0.5629 - val_accuracy: 0.7443\n",
      "Epoch 97/100\n",
      "72/72 [==============================] - 18s 245ms/step - loss: 0.4984 - accuracy: 0.7810 - val_loss: 0.6139 - val_accuracy: 0.7123\n",
      "Epoch 98/100\n",
      "72/72 [==============================] - 18s 248ms/step - loss: 0.5113 - accuracy: 0.7712 - val_loss: 0.5624 - val_accuracy: 0.7391\n",
      "Epoch 99/100\n",
      "72/72 [==============================] - 18s 244ms/step - loss: 0.5125 - accuracy: 0.7786 - val_loss: 0.5705 - val_accuracy: 0.7347\n",
      "Epoch 100/100\n",
      "72/72 [==============================] - 18s 243ms/step - loss: 0.5030 - accuracy: 0.7806 - val_loss: 0.5822 - val_accuracy: 0.7303\n"
     ]
    },
    {
     "data": {
      "text/plain": [
       "<tensorflow.python.keras.callbacks.History at 0x7f957d827fd0>"
      ]
     },
     "execution_count": 12,
     "metadata": {},
     "output_type": "execute_result"
    }
   ],
   "source": [
    "model.fit(\n",
    "    X_train,\n",
    "    y_train,\n",
    "    batch_size=64,\n",
    "    epochs=100,\n",
    "    validation_data=(X_val, y_val),\n",
    ")"
   ]
  },
  {
   "cell_type": "markdown",
   "metadata": {},
   "source": [
    "## Finding the best threshold"
   ]
  },
  {
   "cell_type": "code",
   "execution_count": 13,
   "metadata": {},
   "outputs": [],
   "source": [
    "pred_proba_train = model.predict(X_train)\n",
    "pred_proba_val = model.predict(X_val)"
   ]
  },
  {
   "cell_type": "code",
   "execution_count": 14,
   "metadata": {
    "scrolled": false
   },
   "outputs": [
    {
     "name": "stdout",
     "output_type": "stream",
     "text": [
      "Train Accuracy: 0.8552660389752573 \n",
      "Train Confusion Matrix:\n",
      "[[2434  166]\n",
      " [ 495 1472]]\n",
      "Test Accuracy: 0.7495621716287215 \n",
      "Test Confusion Matrix:\n",
      "[[1132  155]\n",
      " [ 417  580]]\n"
     ]
    },
    {
     "data": {
      "image/png": "[encoded data removed]",
      "text/plain": [
       "<Figure size 1440x720 with 1 Axes>"
      ]
     },
     "metadata": {
      "needs_background": "light"
     },
     "output_type": "display_data"
    }
   ],
   "source": [
    "threshold = plot_roc_curve_mean(y_train=y_train.values, y_train_pred_proba=pred_proba_train, \n",
    "                        y_test=y_val.values, y_test_pred_proba=pred_proba_val)"
   ]
  },
  {
   "cell_type": "markdown",
   "metadata": {},
   "source": [
    "## Test"
   ]
  },
  {
   "cell_type": "code",
   "execution_count": 15,
   "metadata": {},
   "outputs": [
    {
     "name": "stdout",
     "output_type": "stream",
     "text": [
      "24/24 [==============================] - 1s 26ms/step - loss: 0.5228 - accuracy: 0.7717\n"
     ]
    },
    {
     "data": {
      "text/plain": [
       "[0.5227630138397217, 0.7716535329818726]"
      ]
     },
     "execution_count": 15,
     "metadata": {},
     "output_type": "execute_result"
    }
   ],
   "source": [
    "model.evaluate(X_test, y_test)"
   ]
  },
  {
   "cell_type": "code",
   "execution_count": 16,
   "metadata": {},
   "outputs": [],
   "source": [
    "pred_proba_test = model.predict(X_test).reshape(-1)\n",
    "pred_proba_test = (pred_proba_test > threshold).astype(int)"
   ]
  },
  {
   "cell_type": "code",
   "execution_count": 17,
   "metadata": {},
   "outputs": [
    {
     "data": {
      "text/plain": [
       "array([[404.,  51.],\n",
       "       [118., 189.]])"
      ]
     },
     "execution_count": 17,
     "metadata": {},
     "output_type": "execute_result"
    },
    {
     "data": {
      "image/png": "[encoded data removed]",
      "text/plain": [
       "<Figure size 504x360 with 2 Axes>"
      ]
     },
     "metadata": {
      "needs_background": "light"
     },
     "output_type": "display_data"
    }
   ],
   "source": [
    "get_categorial_confusion_matrix(y_test, pred_proba_test, display=True)"
   ]
  },
  {
   "cell_type": "markdown",
   "metadata": {},
   "source": [
    "# Predict"
   ]
  },
  {
   "cell_type": "code",
   "execution_count": 18,
   "metadata": {},
   "outputs": [],
   "source": [
    "predictions = model.predict(test_data)\n",
    "predictions = (predictions > threshold).astype(int)"
   ]
  },
  {
   "cell_type": "code",
   "execution_count": 19,
   "metadata": {},
   "outputs": [],
   "source": [
    "output = pd.read_csv(PATH_RAW + 'sample_submission.csv')\n",
    "output['target'] = predictions\n",
    "output.to_csv(PATH_PROCESSED + 'to_submit.csv', index=False)"
   ]
  },
  {
   "cell_type": "code",
   "execution_count": null,
   "metadata": {},
   "outputs": [],
   "source": []
  }
 ],
 "metadata": {
  "kernelspec": {
   "display_name": "Python 3",
   "language": "python",
   "name": "python3"
  },
  "language_info": {
   "codemirror_mode": {
    "name": "ipython",
    "version": 3
   },
   "file_extension": ".py",
   "mimetype": "text/x-python",
   "name": "python",
   "nbconvert_exporter": "python",
   "pygments_lexer": "ipython3",
   "version": "3.6.9"
  }
 },
 "nbformat": 4,
 "nbformat_minor": 4
}
