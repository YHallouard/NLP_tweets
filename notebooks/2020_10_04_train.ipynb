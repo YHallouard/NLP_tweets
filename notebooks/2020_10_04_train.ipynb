{
 "cells": [
  {
   "cell_type": "code",
   "execution_count": 1,
   "metadata": {},
   "outputs": [
    {
     "name": "stderr",
     "output_type": "stream",
     "text": [
      "[nltk_data] Downloading package stopwords to\n",
      "[nltk_data]     /Users/yannhallouard/nltk_data...\n",
      "[nltk_data]   Package stopwords is already up-to-date!\n"
     ]
    }
   ],
   "source": [
    "from nlp_tweets.preprocess import clean_text, get_sequences, get_embedding_matrix\n",
    "from nlp_tweets.model import get_model\n",
    "from nlp_tweets.eda import plot_roc_curve_mean, get_categorial_confusion_matrix\n",
    "import pandas as pd\n",
    "from sklearn.model_selection import train_test_split\n",
    "from sklearn.metrics import confusion_matrix, accuracy_score, roc_auc_score, roc_curve, auc\n",
    "from gensim.models import KeyedVectors\n",
    "import matplotlib.pyplot as plt\n",
    "import seaborn as sns\n",
    "import numpy as np"
   ]
  },
  {
   "cell_type": "code",
   "execution_count": 36,
   "metadata": {},
   "outputs": [],
   "source": [
    "PATH_RAW = '../data/raw/'\n",
    "PATH_PROCESSED = '../data/processed/'\n",
    "\n",
    "TRAIN_COLUMNS = ['id', 'text', 'target']\n",
    "TEST_COLUMNS = ['id', 'text']\n",
    "MAX_NB_WORDS = 20000\n",
    "EMBEDDING_DIM = 300\n",
    "MAX_SEQUENCE_LENGTH = 100"
   ]
  },
  {
   "cell_type": "markdown",
   "metadata": {},
   "source": [
    "# Loading"
   ]
  },
  {
   "cell_type": "code",
   "execution_count": 37,
   "metadata": {},
   "outputs": [
    {
     "data": {
      "text/html": [
       "<div>\n",
       "<style scoped>\n",
       "    .dataframe tbody tr th:only-of-type {\n",
       "        vertical-align: middle;\n",
       "    }\n",
       "\n",
       "    .dataframe tbody tr th {\n",
       "        vertical-align: top;\n",
       "    }\n",
       "\n",
       "    .dataframe thead th {\n",
       "        text-align: right;\n",
       "    }\n",
       "</style>\n",
       "<table border=\"1\" class=\"dataframe\">\n",
       "  <thead>\n",
       "    <tr style=\"text-align: right;\">\n",
       "      <th></th>\n",
       "      <th>id</th>\n",
       "      <th>text</th>\n",
       "      <th>target</th>\n",
       "    </tr>\n",
       "  </thead>\n",
       "  <tbody>\n",
       "    <tr>\n",
       "      <th>0</th>\n",
       "      <td>1</td>\n",
       "      <td>Our Deeds are the Reason of this #earthquake M...</td>\n",
       "      <td>1</td>\n",
       "    </tr>\n",
       "    <tr>\n",
       "      <th>1</th>\n",
       "      <td>4</td>\n",
       "      <td>Forest fire near La Ronge Sask. Canada</td>\n",
       "      <td>1</td>\n",
       "    </tr>\n",
       "    <tr>\n",
       "      <th>2</th>\n",
       "      <td>5</td>\n",
       "      <td>All residents asked to 'shelter in place' are ...</td>\n",
       "      <td>1</td>\n",
       "    </tr>\n",
       "    <tr>\n",
       "      <th>3</th>\n",
       "      <td>6</td>\n",
       "      <td>13,000 people receive #wildfires evacuation or...</td>\n",
       "      <td>1</td>\n",
       "    </tr>\n",
       "    <tr>\n",
       "      <th>4</th>\n",
       "      <td>7</td>\n",
       "      <td>Just got sent this photo from Ruby #Alaska as ...</td>\n",
       "      <td>1</td>\n",
       "    </tr>\n",
       "  </tbody>\n",
       "</table>\n",
       "</div>"
      ],
      "text/plain": [
       "   id                                               text  target\n",
       "0   1  Our Deeds are the Reason of this #earthquake M...       1\n",
       "1   4             Forest fire near La Ronge Sask. Canada       1\n",
       "2   5  All residents asked to 'shelter in place' are ...       1\n",
       "3   6  13,000 people receive #wildfires evacuation or...       1\n",
       "4   7  Just got sent this photo from Ruby #Alaska as ...       1"
      ]
     },
     "execution_count": 37,
     "metadata": {},
     "output_type": "execute_result"
    }
   ],
   "source": [
    "tweets_df = pd.read_csv(PATH_RAW + 'train.csv')\n",
    "tweets_df = tweets_df[TRAIN_COLUMNS]\n",
    "tweets_df.head()"
   ]
  },
  {
   "cell_type": "code",
   "execution_count": 38,
   "metadata": {},
   "outputs": [],
   "source": [
    "tweets_test_df = pd.read_csv(PATH_RAW + 'test.csv')\n",
    "tweets_test_df = tweets_test_df[TEST_COLUMNS]"
   ]
  },
  {
   "cell_type": "markdown",
   "metadata": {},
   "source": [
    "# Preprocessing"
   ]
  },
  {
   "cell_type": "code",
   "execution_count": 39,
   "metadata": {},
   "outputs": [],
   "source": [
    "tweets_df['text'] = tweets_df['text'].map(lambda x: clean_text(x))"
   ]
  },
  {
   "cell_type": "code",
   "execution_count": 40,
   "metadata": {},
   "outputs": [],
   "source": [
    "data, tokenizer = get_sequences(vocabulary_size=MAX_NB_WORDS, maxlen=MAX_SEQUENCE_LENGTH, texts=tweets_df['text'])"
   ]
  },
  {
   "cell_type": "code",
   "execution_count": 41,
   "metadata": {},
   "outputs": [],
   "source": [
    "test_data, _ = get_sequences(vocabulary_size=MAX_NB_WORDS, maxlen=MAX_SEQUENCE_LENGTH, \n",
    "                          texts=tweets_test_df['text'], tokenizer=tokenizer)"
   ]
  },
  {
   "cell_type": "code",
   "execution_count": 42,
   "metadata": {},
   "outputs": [],
   "source": [
    "pretrained_embeddings_path = PATH_RAW + \"GoogleNews-vectors-negative300.bin\"\n",
    "word2vec = KeyedVectors.load_word2vec_format(pretrained_embeddings_path, binary=True)"
   ]
  },
  {
   "cell_type": "code",
   "execution_count": 43,
   "metadata": {},
   "outputs": [],
   "source": [
    "embedding_matrix = get_embedding_matrix(tokenizer=tokenizer, \n",
    "                                        word2vec=word2vec, \n",
    "                                        max_nb_words=MAX_NB_WORDS, \n",
    "                                        enbedding_dim=EMBEDDING_DIM)"
   ]
  },
  {
   "cell_type": "markdown",
   "metadata": {},
   "source": [
    "# Train test split"
   ]
  },
  {
   "cell_type": "code",
   "execution_count": 44,
   "metadata": {},
   "outputs": [
    {
     "name": "stdout",
     "output_type": "stream",
     "text": [
      "(4567, 100) (2284, 100) (762, 100)\n"
     ]
    }
   ],
   "source": [
    "X_train, X_val, y_train, y_val = train_test_split(data, tweets_df['target'], test_size=0.4)\n",
    "X_val, X_test, y_val, y_test = train_test_split(X_val, y_val)\n",
    "\n",
    "print(X_train.shape, X_val.shape, X_test.shape)"
   ]
  },
  {
   "cell_type": "markdown",
   "metadata": {},
   "source": [
    "# Create Model"
   ]
  },
  {
   "cell_type": "code",
   "execution_count": 63,
   "metadata": {},
   "outputs": [],
   "source": [
    "from tensorflow.keras.layers import Dense, Dropout, Activation, Input, GRU, TimeDistributed, \\\n",
    "    Embedding, BatchNormalization, Flatten\n",
    "from tensorflow.keras.models import Model\n",
    "import tensorflow\n",
    "def get_model(vocabulary_size: int, embeding_dim: int, max_sequence_length: int,\n",
    "              _rnn_nb: [int], _fc_nb: [int], dropout_rate: float) -> tensorflow.keras.models.Model:\n",
    "    sequence_1_input = Input(shape=(max_sequence_length,), dtype='int32')\n",
    "\n",
    "    seq = Embedding(vocabulary_size, embeding_dim, input_length=max_sequence_length, trainable=False)(sequence_1_input)\n",
    "    for _r in _rnn_nb:\n",
    "        seq = GRU(_r, activation='tanh', dropout=dropout_rate,\n",
    "                  recurrent_dropout=dropout_rate, return_sequences=True)(seq)\n",
    "\n",
    "    for _f in _fc_nb:\n",
    "        seq = TimeDistributed(Dense(_f))(seq)\n",
    "        seq = Dropout(dropout_rate)(seq)\n",
    "        seq = TimeDistributed(Dense(_f))(seq)\n",
    "\n",
    "    seq = Flatten()(seq)\n",
    "    seq = Dense(100)(seq)\n",
    "    seq = Activation('tanh')(seq)\n",
    "    seq = Dropout(dropout_rate)(seq)\n",
    "    seq = BatchNormalization()(seq)\n",
    "    seq = Dense(10)(seq)\n",
    "    seq = Activation('tanh')(seq)\n",
    "    seq = Dropout(dropout_rate)(seq)\n",
    "    seq = BatchNormalization()(seq)\n",
    "    seq = Dense(1)(seq)\n",
    "    out = Activation('sigmoid', name='strong_out')(seq)\n",
    "\n",
    "    model = Model(inputs=sequence_1_input, outputs=out)\n",
    "    model.compile(optimizer='Adam', loss='binary_crossentropy', metrics=['accuracy'])\n",
    "\n",
    "    return model"
   ]
  },
  {
   "cell_type": "code",
   "execution_count": 64,
   "metadata": {},
   "outputs": [
    {
     "name": "stdout",
     "output_type": "stream",
     "text": [
      "Model: \"functional_15\"\n",
      "_________________________________________________________________\n",
      "Layer (type)                 Output Shape              Param #   \n",
      "=================================================================\n",
      "input_8 (InputLayer)         [(None, 100)]             0         \n",
      "_________________________________________________________________\n",
      "embedding_7 (Embedding)      (None, 100, 300)          6000000   \n",
      "_________________________________________________________________\n",
      "gru_17 (GRU)                 (None, 100, 128)          165120    \n",
      "_________________________________________________________________\n",
      "gru_18 (GRU)                 (None, 100, 64)           37248     \n",
      "_________________________________________________________________\n",
      "gru_19 (GRU)                 (None, 100, 32)           9408      \n",
      "_________________________________________________________________\n",
      "time_distributed_14 (TimeDis (None, 100, 32)           1056      \n",
      "_________________________________________________________________\n",
      "dropout_14 (Dropout)         (None, 100, 32)           0         \n",
      "_________________________________________________________________\n",
      "time_distributed_15 (TimeDis (None, 100, 32)           1056      \n",
      "_________________________________________________________________\n",
      "flatten_7 (Flatten)          (None, 3200)              0         \n",
      "_________________________________________________________________\n",
      "dense_30 (Dense)             (None, 100)               320100    \n",
      "_________________________________________________________________\n",
      "activation_7 (Activation)    (None, 100)               0         \n",
      "_________________________________________________________________\n",
      "dropout_15 (Dropout)         (None, 100)               0         \n",
      "_________________________________________________________________\n",
      "batch_normalization_7 (Batch (None, 100)               400       \n",
      "_________________________________________________________________\n",
      "dense_31 (Dense)             (None, 10)                1010      \n",
      "_________________________________________________________________\n",
      "activation_8 (Activation)    (None, 10)                0         \n",
      "_________________________________________________________________\n",
      "dropout_16 (Dropout)         (None, 10)                0         \n",
      "_________________________________________________________________\n",
      "batch_normalization_8 (Batch (None, 10)                40        \n",
      "_________________________________________________________________\n",
      "dense_32 (Dense)             (None, 1)                 11        \n",
      "_________________________________________________________________\n",
      "strong_out (Activation)      (None, 1)                 0         \n",
      "=================================================================\n",
      "Total params: 6,535,449\n",
      "Trainable params: 535,229\n",
      "Non-trainable params: 6,000,220\n",
      "_________________________________________________________________\n"
     ]
    }
   ],
   "source": [
    "model = get_model(vocabulary_size=MAX_NB_WORDS, embeding_dim=EMBEDDING_DIM, \n",
    "                  max_sequence_length=MAX_SEQUENCE_LENGTH,_rnn_nb=[128, 64, 32], _fc_nb=[32], dropout_rate=0.5) \n",
    "model.summary()"
   ]
  },
  {
   "cell_type": "markdown",
   "metadata": {},
   "source": [
    "# Train"
   ]
  },
  {
   "cell_type": "code",
   "execution_count": null,
   "metadata": {
    "scrolled": true
   },
   "outputs": [
    {
     "name": "stdout",
     "output_type": "stream",
     "text": [
      "Epoch 1/100\n",
      "72/72 [==============================] - 38s 527ms/step - loss: 0.8236 - accuracy: 0.5310 - val_loss: 1.0176 - val_accuracy: 0.4247\n",
      "Epoch 2/100\n",
      "72/72 [==============================] - 37s 508ms/step - loss: 0.7548 - accuracy: 0.5476 - val_loss: 0.6902 - val_accuracy: 0.5753\n",
      "Epoch 3/100\n",
      "72/72 [==============================] - 36s 502ms/step - loss: 0.7289 - accuracy: 0.5527 - val_loss: 0.7123 - val_accuracy: 0.5123\n",
      "Epoch 4/100\n",
      "72/72 [==============================] - 37s 507ms/step - loss: 0.6909 - accuracy: 0.5752 - val_loss: 0.6432 - val_accuracy: 0.6200\n",
      "Epoch 5/100\n",
      "72/72 [==============================] - 36s 505ms/step - loss: 0.6802 - accuracy: 0.5949 - val_loss: 0.7490 - val_accuracy: 0.5753\n",
      "Epoch 6/100\n",
      "72/72 [==============================] - 37s 507ms/step - loss: 0.6651 - accuracy: 0.6078 - val_loss: 0.6194 - val_accuracy: 0.6576\n",
      "Epoch 7/100\n",
      "72/72 [==============================] - 36s 501ms/step - loss: 0.6449 - accuracy: 0.6381 - val_loss: 0.7186 - val_accuracy: 0.5880\n",
      "Epoch 8/100\n",
      "72/72 [==============================] - 36s 500ms/step - loss: 0.6354 - accuracy: 0.6473 - val_loss: 0.7640 - val_accuracy: 0.4413\n",
      "Epoch 9/100\n",
      "72/72 [==============================] - 36s 507ms/step - loss: 0.6429 - accuracy: 0.6370 - val_loss: 0.6216 - val_accuracy: 0.6515\n",
      "Epoch 10/100\n",
      "72/72 [==============================] - 36s 505ms/step - loss: 0.6236 - accuracy: 0.6670 - val_loss: 0.6391 - val_accuracy: 0.6454\n",
      "Epoch 11/100\n",
      "72/72 [==============================] - 37s 511ms/step - loss: 0.6256 - accuracy: 0.6610 - val_loss: 0.6814 - val_accuracy: 0.5915\n",
      "Epoch 12/100\n",
      "72/72 [==============================] - 37s 519ms/step - loss: 0.6096 - accuracy: 0.6825 - val_loss: 0.5901 - val_accuracy: 0.7058\n",
      "Epoch 13/100\n",
      "72/72 [==============================] - 37s 508ms/step - loss: 0.6097 - accuracy: 0.6849 - val_loss: 0.5879 - val_accuracy: 0.7010\n",
      "Epoch 14/100\n",
      "72/72 [==============================] - 36s 507ms/step - loss: 0.6142 - accuracy: 0.6847 - val_loss: 0.5864 - val_accuracy: 0.7075\n",
      "Epoch 15/100\n",
      "72/72 [==============================] - 36s 502ms/step - loss: 0.6074 - accuracy: 0.6945 - val_loss: 0.5972 - val_accuracy: 0.6940\n",
      "Epoch 16/100\n",
      "72/72 [==============================] - 38s 522ms/step - loss: 0.6014 - accuracy: 0.6965 - val_loss: 0.5889 - val_accuracy: 0.7080\n",
      "Epoch 17/100\n",
      "72/72 [==============================] - 36s 503ms/step - loss: 0.5960 - accuracy: 0.7000 - val_loss: 0.5851 - val_accuracy: 0.7128\n",
      "Epoch 18/100\n",
      "72/72 [==============================] - 38s 522ms/step - loss: 0.5989 - accuracy: 0.7018 - val_loss: 0.5780 - val_accuracy: 0.7128\n",
      "Epoch 19/100\n",
      "72/72 [==============================] - 37s 514ms/step - loss: 0.5993 - accuracy: 0.7011 - val_loss: 0.5772 - val_accuracy: 0.7163\n",
      "Epoch 20/100\n",
      "72/72 [==============================] - 37s 514ms/step - loss: 0.5947 - accuracy: 0.7033 - val_loss: 0.5801 - val_accuracy: 0.7132\n",
      "Epoch 21/100\n",
      "72/72 [==============================] - 36s 506ms/step - loss: 0.5979 - accuracy: 0.6943 - val_loss: 0.5784 - val_accuracy: 0.7110\n",
      "Epoch 22/100\n",
      "72/72 [==============================] - 36s 495ms/step - loss: 0.5987 - accuracy: 0.6926 - val_loss: 0.5836 - val_accuracy: 0.7154\n",
      "Epoch 23/100\n",
      "72/72 [==============================] - 36s 498ms/step - loss: 0.5959 - accuracy: 0.6974 - val_loss: 0.5900 - val_accuracy: 0.7115\n",
      "Epoch 24/100\n",
      "72/72 [==============================] - 36s 495ms/step - loss: 0.5942 - accuracy: 0.7029 - val_loss: 0.5825 - val_accuracy: 0.7097\n",
      "Epoch 25/100\n",
      "72/72 [==============================] - 36s 498ms/step - loss: 0.5916 - accuracy: 0.7013 - val_loss: 0.5801 - val_accuracy: 0.7058\n",
      "Epoch 26/100\n",
      "72/72 [==============================] - 36s 500ms/step - loss: 0.5785 - accuracy: 0.7184 - val_loss: 0.5771 - val_accuracy: 0.7067\n",
      "Epoch 27/100\n",
      "72/72 [==============================] - 36s 502ms/step - loss: 0.5996 - accuracy: 0.6961 - val_loss: 0.5862 - val_accuracy: 0.7110\n",
      "Epoch 28/100\n",
      "72/72 [==============================] - 36s 502ms/step - loss: 0.5865 - accuracy: 0.7125 - val_loss: 0.5795 - val_accuracy: 0.7172\n",
      "Epoch 29/100\n",
      "72/72 [==============================] - 36s 502ms/step - loss: 0.5854 - accuracy: 0.7167 - val_loss: 0.6076 - val_accuracy: 0.6918\n",
      "Epoch 30/100\n",
      "72/72 [==============================] - 36s 497ms/step - loss: 0.5910 - accuracy: 0.7145 - val_loss: 0.5810 - val_accuracy: 0.7005\n",
      "Epoch 31/100\n",
      "72/72 [==============================] - 39s 543ms/step - loss: 0.5797 - accuracy: 0.7265 - val_loss: 0.5829 - val_accuracy: 0.7128\n",
      "Epoch 32/100\n",
      "72/72 [==============================] - 37s 513ms/step - loss: 0.5756 - accuracy: 0.7178 - val_loss: 0.6651 - val_accuracy: 0.6213\n",
      "Epoch 33/100\n",
      "72/72 [==============================] - 38s 525ms/step - loss: 0.5840 - accuracy: 0.7140 - val_loss: 0.5719 - val_accuracy: 0.7211\n",
      "Epoch 34/100\n",
      "72/72 [==============================] - 38s 526ms/step - loss: 0.5802 - accuracy: 0.7206 - val_loss: 0.5778 - val_accuracy: 0.7093\n",
      "Epoch 35/100\n",
      "72/72 [==============================] - 37s 514ms/step - loss: 0.5876 - accuracy: 0.7112 - val_loss: 0.5823 - val_accuracy: 0.7176\n",
      "Epoch 36/100\n",
      "72/72 [==============================] - 36s 503ms/step - loss: 0.5693 - accuracy: 0.7232 - val_loss: 0.5745 - val_accuracy: 0.7211\n",
      "Epoch 37/100\n",
      "72/72 [==============================] - 37s 514ms/step - loss: 0.5706 - accuracy: 0.7283 - val_loss: 0.5712 - val_accuracy: 0.7237\n",
      "Epoch 38/100\n",
      "72/72 [==============================] - 37s 512ms/step - loss: 0.5720 - accuracy: 0.7322 - val_loss: 0.6069 - val_accuracy: 0.6764\n",
      "Epoch 39/100\n",
      "72/72 [==============================] - 36s 501ms/step - loss: 0.5706 - accuracy: 0.7235 - val_loss: 0.5802 - val_accuracy: 0.7163\n",
      "Epoch 40/100\n",
      "72/72 [==============================] - 37s 515ms/step - loss: 0.5748 - accuracy: 0.7298 - val_loss: 0.5647 - val_accuracy: 0.7211\n",
      "Epoch 41/100\n",
      "72/72 [==============================] - 36s 501ms/step - loss: 0.5636 - accuracy: 0.7274 - val_loss: 0.5689 - val_accuracy: 0.7233\n",
      "Epoch 42/100\n",
      "72/72 [==============================] - 36s 497ms/step - loss: 0.5735 - accuracy: 0.7206 - val_loss: 0.5681 - val_accuracy: 0.7215\n",
      "Epoch 43/100\n",
      "72/72 [==============================] - 36s 503ms/step - loss: 0.5667 - accuracy: 0.7307 - val_loss: 0.5696 - val_accuracy: 0.7242\n",
      "Epoch 44/100\n",
      "72/72 [==============================] - 36s 499ms/step - loss: 0.5651 - accuracy: 0.7291 - val_loss: 0.5640 - val_accuracy: 0.7220\n",
      "Epoch 45/100\n",
      "72/72 [==============================] - 37s 509ms/step - loss: 0.5600 - accuracy: 0.7453 - val_loss: 0.5778 - val_accuracy: 0.7246\n",
      "Epoch 46/100\n",
      "72/72 [==============================] - 36s 500ms/step - loss: 0.5562 - accuracy: 0.7443 - val_loss: 0.5791 - val_accuracy: 0.7268\n",
      "Epoch 47/100\n",
      "72/72 [==============================] - 37s 509ms/step - loss: 0.5507 - accuracy: 0.7480 - val_loss: 0.5817 - val_accuracy: 0.7154\n",
      "Epoch 48/100\n",
      "72/72 [==============================] - 36s 499ms/step - loss: 0.5669 - accuracy: 0.7300 - val_loss: 0.5720 - val_accuracy: 0.7224\n",
      "Epoch 49/100\n",
      "72/72 [==============================] - 36s 500ms/step - loss: 0.5608 - accuracy: 0.7351 - val_loss: 0.5573 - val_accuracy: 0.7342\n",
      "Epoch 50/100\n",
      "72/72 [==============================] - 37s 514ms/step - loss: 0.5605 - accuracy: 0.7309 - val_loss: 0.5615 - val_accuracy: 0.7303\n",
      "Epoch 51/100\n",
      "72/72 [==============================] - 37s 509ms/step - loss: 0.5592 - accuracy: 0.7381 - val_loss: 0.5700 - val_accuracy: 0.7294\n",
      "Epoch 52/100\n",
      "72/72 [==============================] - 37s 511ms/step - loss: 0.5516 - accuracy: 0.7427 - val_loss: 0.5736 - val_accuracy: 0.7220\n",
      "Epoch 53/100\n",
      "72/72 [==============================] - 37s 513ms/step - loss: 0.5542 - accuracy: 0.7471 - val_loss: 0.5966 - val_accuracy: 0.7110\n",
      "Epoch 54/100\n",
      "72/72 [==============================] - 37s 517ms/step - loss: 0.5457 - accuracy: 0.7497 - val_loss: 0.5689 - val_accuracy: 0.7207\n",
      "Epoch 55/100\n",
      "72/72 [==============================] - 37s 508ms/step - loss: 0.5521 - accuracy: 0.7427 - val_loss: 0.5593 - val_accuracy: 0.7220\n",
      "Epoch 56/100\n",
      "72/72 [==============================] - 37s 516ms/step - loss: 0.5406 - accuracy: 0.7528 - val_loss: 0.5675 - val_accuracy: 0.7268\n",
      "Epoch 57/100\n"
     ]
    },
    {
     "name": "stdout",
     "output_type": "stream",
     "text": [
      "72/72 [==============================] - 38s 523ms/step - loss: 0.5476 - accuracy: 0.7482 - val_loss: 0.5613 - val_accuracy: 0.7268\n",
      "Epoch 58/100\n",
      "72/72 [==============================] - 37s 518ms/step - loss: 0.5371 - accuracy: 0.7526 - val_loss: 0.5938 - val_accuracy: 0.7106\n",
      "Epoch 59/100\n",
      "72/72 [==============================] - 38s 524ms/step - loss: 0.5418 - accuracy: 0.7545 - val_loss: 0.5585 - val_accuracy: 0.7290\n",
      "Epoch 60/100\n",
      "72/72 [==============================] - 39s 538ms/step - loss: 0.5354 - accuracy: 0.7583 - val_loss: 0.5594 - val_accuracy: 0.7312\n",
      "Epoch 61/100\n",
      "72/72 [==============================] - 38s 526ms/step - loss: 0.5385 - accuracy: 0.7510 - val_loss: 0.5671 - val_accuracy: 0.7264\n",
      "Epoch 62/100\n",
      "72/72 [==============================] - 37s 518ms/step - loss: 0.5283 - accuracy: 0.7598 - val_loss: 0.5551 - val_accuracy: 0.7338\n",
      "Epoch 63/100\n",
      "72/72 [==============================] - 38s 524ms/step - loss: 0.5378 - accuracy: 0.7462 - val_loss: 0.5802 - val_accuracy: 0.7080\n",
      "Epoch 64/100\n",
      "72/72 [==============================] - 38s 522ms/step - loss: 0.5413 - accuracy: 0.7528 - val_loss: 0.6127 - val_accuracy: 0.7018\n",
      "Epoch 65/100\n",
      "72/72 [==============================] - 38s 523ms/step - loss: 0.5293 - accuracy: 0.7578 - val_loss: 0.5728 - val_accuracy: 0.7246\n",
      "Epoch 66/100\n",
      "72/72 [==============================] - 38s 524ms/step - loss: 0.5390 - accuracy: 0.7572 - val_loss: 0.5898 - val_accuracy: 0.7163\n",
      "Epoch 67/100\n",
      "72/72 [==============================] - 38s 527ms/step - loss: 0.5333 - accuracy: 0.7583 - val_loss: 0.5516 - val_accuracy: 0.7360\n",
      "Epoch 68/100\n",
      "72/72 [==============================] - 39s 540ms/step - loss: 0.5305 - accuracy: 0.7596 - val_loss: 0.5635 - val_accuracy: 0.7360\n",
      "Epoch 69/100\n",
      "72/72 [==============================] - 38s 523ms/step - loss: 0.5234 - accuracy: 0.7631 - val_loss: 0.6177 - val_accuracy: 0.7075\n",
      "Epoch 70/100\n",
      "72/72 [==============================] - 38s 524ms/step - loss: 0.5350 - accuracy: 0.7616 - val_loss: 0.5594 - val_accuracy: 0.7294\n",
      "Epoch 71/100\n",
      "72/72 [==============================] - 38s 527ms/step - loss: 0.5216 - accuracy: 0.7694 - val_loss: 0.5554 - val_accuracy: 0.7373\n",
      "Epoch 72/100\n",
      "72/72 [==============================] - 38s 523ms/step - loss: 0.5280 - accuracy: 0.7556 - val_loss: 0.6857 - val_accuracy: 0.6668\n",
      "Epoch 73/100\n",
      "72/72 [==============================] - 38s 534ms/step - loss: 0.5296 - accuracy: 0.7616 - val_loss: 0.5628 - val_accuracy: 0.7320\n",
      "Epoch 74/100\n",
      "72/72 [==============================] - 38s 524ms/step - loss: 0.5158 - accuracy: 0.7736 - val_loss: 0.5925 - val_accuracy: 0.7167\n",
      "Epoch 75/100\n",
      "72/72 [==============================] - 38s 534ms/step - loss: 0.5264 - accuracy: 0.7596 - val_loss: 0.5588 - val_accuracy: 0.7307\n",
      "Epoch 76/100\n",
      "72/72 [==============================] - 38s 528ms/step - loss: 0.5294 - accuracy: 0.7613 - val_loss: 0.5891 - val_accuracy: 0.7242\n",
      "Epoch 77/100\n",
      "72/72 [==============================] - 38s 524ms/step - loss: 0.5292 - accuracy: 0.7600 - val_loss: 0.5599 - val_accuracy: 0.7299\n",
      "Epoch 78/100\n",
      "72/72 [==============================] - 38s 530ms/step - loss: 0.5161 - accuracy: 0.7670 - val_loss: 0.5556 - val_accuracy: 0.7303\n",
      "Epoch 79/100\n",
      "72/72 [==============================] - 38s 524ms/step - loss: 0.5110 - accuracy: 0.7718 - val_loss: 0.5717 - val_accuracy: 0.7272\n",
      "Epoch 80/100\n",
      "72/72 [==============================] - 39s 540ms/step - loss: 0.5196 - accuracy: 0.7646 - val_loss: 0.6033 - val_accuracy: 0.6891\n",
      "Epoch 81/100\n",
      "72/72 [==============================] - 38s 530ms/step - loss: 0.5134 - accuracy: 0.7716 - val_loss: 0.5836 - val_accuracy: 0.7259\n",
      "Epoch 82/100\n",
      "72/72 [==============================] - 38s 522ms/step - loss: 0.5118 - accuracy: 0.7758 - val_loss: 0.5516 - val_accuracy: 0.7391\n",
      "Epoch 83/100\n",
      "72/72 [==============================] - 38s 523ms/step - loss: 0.5148 - accuracy: 0.7756 - val_loss: 0.5808 - val_accuracy: 0.7224\n",
      "Epoch 84/100\n",
      "72/72 [==============================] - 37s 517ms/step - loss: 0.5117 - accuracy: 0.7707 - val_loss: 0.5818 - val_accuracy: 0.7285\n",
      "Epoch 85/100\n",
      "72/72 [==============================] - 38s 527ms/step - loss: 0.5129 - accuracy: 0.7712 - val_loss: 0.5660 - val_accuracy: 0.7233\n",
      "Epoch 86/100\n",
      "72/72 [==============================] - 37s 518ms/step - loss: 0.5317 - accuracy: 0.7502 - val_loss: 0.6136 - val_accuracy: 0.7014\n",
      "Epoch 87/100\n",
      "72/72 [==============================] - 39s 538ms/step - loss: 0.4940 - accuracy: 0.7867 - val_loss: 0.5810 - val_accuracy: 0.7264\n",
      "Epoch 88/100\n",
      "72/72 [==============================] - 38s 533ms/step - loss: 0.4973 - accuracy: 0.7778 - val_loss: 0.5725 - val_accuracy: 0.7430\n",
      "Epoch 89/100\n",
      "72/72 [==============================] - 37s 518ms/step - loss: 0.5080 - accuracy: 0.7784 - val_loss: 0.5643 - val_accuracy: 0.7277\n",
      "Epoch 90/100\n",
      "72/72 [==============================] - 38s 533ms/step - loss: 0.4927 - accuracy: 0.7832 - val_loss: 0.5787 - val_accuracy: 0.7478\n",
      "Epoch 91/100\n",
      "72/72 [==============================] - 38s 526ms/step - loss: 0.4991 - accuracy: 0.7856 - val_loss: 0.5466 - val_accuracy: 0.7496\n",
      "Epoch 92/100\n",
      "72/72 [==============================] - 39s 548ms/step - loss: 0.5008 - accuracy: 0.7832 - val_loss: 0.5610 - val_accuracy: 0.7443\n",
      "Epoch 93/100\n",
      "72/72 [==============================] - 38s 521ms/step - loss: 0.5053 - accuracy: 0.7793 - val_loss: 0.6654 - val_accuracy: 0.6668\n",
      "Epoch 94/100\n",
      "72/72 [==============================] - 38s 532ms/step - loss: 0.5112 - accuracy: 0.7760 - val_loss: 0.6026 - val_accuracy: 0.7185\n",
      "Epoch 95/100\n",
      "72/72 [==============================] - 39s 543ms/step - loss: 0.4971 - accuracy: 0.7924 - val_loss: 0.5584 - val_accuracy: 0.7417\n",
      "Epoch 96/100\n",
      "72/72 [==============================] - 38s 527ms/step - loss: 0.4921 - accuracy: 0.7854 - val_loss: 0.6028 - val_accuracy: 0.7088\n",
      "Epoch 97/100\n",
      "72/72 [==============================] - 39s 535ms/step - loss: 0.5107 - accuracy: 0.7672 - val_loss: 0.5722 - val_accuracy: 0.7154\n",
      "Epoch 98/100\n",
      "72/72 [==============================] - 41s 563ms/step - loss: 0.5092 - accuracy: 0.7778 - val_loss: 0.5897 - val_accuracy: 0.7430\n",
      "Epoch 99/100\n",
      "72/72 [==============================] - 47s 651ms/step - loss: 0.4970 - accuracy: 0.7821 - val_loss: 0.6048 - val_accuracy: 0.7097\n",
      "Epoch 100/100\n",
      "26/72 [=========>....................] - ETA: 26s - loss: 0.5177 - accuracy: 0.7819"
     ]
    }
   ],
   "source": [
    "model.fit(\n",
    "    X_train,\n",
    "    y_train,\n",
    "    batch_size=64,\n",
    "    epochs=100,\n",
    "    validation_data=(X_val, y_val),\n",
    ")"
   ]
  },
  {
   "cell_type": "markdown",
   "metadata": {},
   "source": [
    "## Finding the best threshold"
   ]
  },
  {
   "cell_type": "code",
   "execution_count": null,
   "metadata": {},
   "outputs": [],
   "source": [
    "pred_proba_train = model.predict(X_train)\n",
    "pred_proba_val = model.predict(X_val)"
   ]
  },
  {
   "cell_type": "code",
   "execution_count": null,
   "metadata": {
    "scrolled": false
   },
   "outputs": [],
   "source": [
    "threshold = plot_roc_curve_mean(y_train=y_train.values, y_train_pred_proba=pred_proba_train, \n",
    "                        y_test=y_val.values, y_test_pred_proba=pred_proba_val)"
   ]
  },
  {
   "cell_type": "markdown",
   "metadata": {},
   "source": [
    "## Test"
   ]
  },
  {
   "cell_type": "code",
   "execution_count": null,
   "metadata": {},
   "outputs": [],
   "source": [
    "model.evaluate(X_test, y_test)"
   ]
  },
  {
   "cell_type": "code",
   "execution_count": null,
   "metadata": {},
   "outputs": [],
   "source": [
    "pred_proba_test = model.predict(X_test).reshape(-1)\n",
    "pred_proba_test = (pred_proba_test > threshold).astype(int)"
   ]
  },
  {
   "cell_type": "code",
   "execution_count": null,
   "metadata": {},
   "outputs": [],
   "source": [
    "get_categorial_confusion_matrix(y_test, pred_proba_test, display=True)"
   ]
  },
  {
   "cell_type": "markdown",
   "metadata": {},
   "source": [
    "# Predict"
   ]
  },
  {
   "cell_type": "code",
   "execution_count": null,
   "metadata": {},
   "outputs": [],
   "source": [
    "predictions = model.predict(test_data)\n",
    "predictions = (predictions > threshold).astype(int)"
   ]
  },
  {
   "cell_type": "code",
   "execution_count": null,
   "metadata": {},
   "outputs": [],
   "source": [
    "output = pd.read_csv(PATH_RAW + 'sample_submission.csv')\n",
    "output['target'] = predictions\n",
    "output.to_csv(PATH_PROCESSED + 'to_submit.csv', index=False)"
   ]
  },
  {
   "cell_type": "code",
   "execution_count": null,
   "metadata": {},
   "outputs": [],
   "source": []
  }
 ],
 "metadata": {
  "kernelspec": {
   "display_name": "Python 3",
   "language": "python",
   "name": "python3"
  },
  "language_info": {
   "codemirror_mode": {
    "name": "ipython",
    "version": 3
   },
   "file_extension": ".py",
   "mimetype": "text/x-python",
   "name": "python",
   "nbconvert_exporter": "python",
   "pygments_lexer": "ipython3",
   "version": "3.6.9"
  }
 },
 "nbformat": 4,
 "nbformat_minor": 4
}
