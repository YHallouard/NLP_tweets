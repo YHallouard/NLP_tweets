{
 "cells": [
  {
   "cell_type": "code",
   "execution_count": 14,
   "metadata": {},
   "outputs": [],
   "source": [
    "import numpy as np\n",
    "import pandas as pd\n",
    "import matplotlib.pyplot as plt\n",
    "import seaborn as sns\n",
    "import unidecode\n",
    "\n",
    "from sklearn.model_selection import train_test_split\n",
    "from sklearn.metrics import confusion_matrix, accuracy_score, roc_auc_score, roc_curve, \\\n",
    "    auc, mean_absolute_error\n",
    "from gensim.models import KeyedVectors\n",
    "from sklearn.dummy import DummyClassifier\n",
    "\n",
    "from nltk.corpus import stopwords\n",
    "import nltk\n",
    "\n",
    "from nlp_tweets.preprocess import clean_text, get_sequences, get_embedding_matrix\n",
    "from nlp_tweets.model import get_model\n",
    "from nlp_tweets.eda import plot_roc_curve_mean, get_categorial_confusion_matrix"
   ]
  },
  {
   "cell_type": "code",
   "execution_count": 15,
   "metadata": {},
   "outputs": [],
   "source": [
    "PATH_RAW = '../data/raw/'\n",
    "PATH_PROCESSED = '../data/processed/'\n",
    "\n",
    "TRAIN_COLUMNS = ['id', 'text', 'target']\n",
    "TEST_COLUMNS = ['id', 'text']\n",
    "MAX_NB_WORDS = 20000\n",
    "EMBEDDING_DIM = 300\n",
    "MAX_SEQUENCE_LENGTH = 50"
   ]
  },
  {
   "cell_type": "markdown",
   "metadata": {},
   "source": [
    "# Loading"
   ]
  },
  {
   "cell_type": "code",
   "execution_count": 16,
   "metadata": {},
   "outputs": [
    {
     "data": {
      "text/html": [
       "<div>\n",
       "<style scoped>\n",
       "    .dataframe tbody tr th:only-of-type {\n",
       "        vertical-align: middle;\n",
       "    }\n",
       "\n",
       "    .dataframe tbody tr th {\n",
       "        vertical-align: top;\n",
       "    }\n",
       "\n",
       "    .dataframe thead th {\n",
       "        text-align: right;\n",
       "    }\n",
       "</style>\n",
       "<table border=\"1\" class=\"dataframe\">\n",
       "  <thead>\n",
       "    <tr style=\"text-align: right;\">\n",
       "      <th></th>\n",
       "      <th>id</th>\n",
       "      <th>text</th>\n",
       "      <th>target</th>\n",
       "    </tr>\n",
       "  </thead>\n",
       "  <tbody>\n",
       "    <tr>\n",
       "      <th>0</th>\n",
       "      <td>1</td>\n",
       "      <td>Our Deeds are the Reason of this #earthquake M...</td>\n",
       "      <td>1</td>\n",
       "    </tr>\n",
       "    <tr>\n",
       "      <th>1</th>\n",
       "      <td>4</td>\n",
       "      <td>Forest fire near La Ronge Sask. Canada</td>\n",
       "      <td>1</td>\n",
       "    </tr>\n",
       "    <tr>\n",
       "      <th>2</th>\n",
       "      <td>5</td>\n",
       "      <td>All residents asked to 'shelter in place' are ...</td>\n",
       "      <td>1</td>\n",
       "    </tr>\n",
       "    <tr>\n",
       "      <th>3</th>\n",
       "      <td>6</td>\n",
       "      <td>13,000 people receive #wildfires evacuation or...</td>\n",
       "      <td>1</td>\n",
       "    </tr>\n",
       "    <tr>\n",
       "      <th>4</th>\n",
       "      <td>7</td>\n",
       "      <td>Just got sent this photo from Ruby #Alaska as ...</td>\n",
       "      <td>1</td>\n",
       "    </tr>\n",
       "  </tbody>\n",
       "</table>\n",
       "</div>"
      ],
      "text/plain": [
       "   id                                               text  target\n",
       "0   1  Our Deeds are the Reason of this #earthquake M...       1\n",
       "1   4             Forest fire near La Ronge Sask. Canada       1\n",
       "2   5  All residents asked to 'shelter in place' are ...       1\n",
       "3   6  13,000 people receive #wildfires evacuation or...       1\n",
       "4   7  Just got sent this photo from Ruby #Alaska as ...       1"
      ]
     },
     "execution_count": 16,
     "metadata": {},
     "output_type": "execute_result"
    }
   ],
   "source": [
    "tweets_df = pd.read_csv(PATH_RAW + 'train.csv')\n",
    "tweets_df = tweets_df[TRAIN_COLUMNS]\n",
    "tweets_df.head()"
   ]
  },
  {
   "cell_type": "code",
   "execution_count": 17,
   "metadata": {},
   "outputs": [],
   "source": [
    "tweets_test_df = pd.read_csv(PATH_RAW + 'test.csv')\n",
    "tweets_test_df = tweets_test_df[TEST_COLUMNS]"
   ]
  },
  {
   "cell_type": "markdown",
   "metadata": {},
   "source": [
    "# Preprocessing"
   ]
  },
  {
   "cell_type": "code",
   "execution_count": 18,
   "metadata": {},
   "outputs": [],
   "source": [
    "to_remove_caracters = ['/', '-', '[', ']', ',', ':', '&', '>', '<', '\\\\', '#']\n",
    "\n",
    "stops = list(stopwords.words(\"english\")) + list(stopwords.words(\"french\"))\n",
    "stops = [unidecode.unidecode(stop_words) for stop_words in stops]\n",
    "stop_words = ['']\n",
    "stop_words += stops"
   ]
  },
  {
   "cell_type": "code",
   "execution_count": 19,
   "metadata": {},
   "outputs": [],
   "source": [
    "tweets_df['text']      = tweets_df['text'].apply(clean_text(to_remove_caracters, \n",
    "                                                       stop_words))\n",
    "tweets_test_df['text'] = tweets_test_df['text'].apply(clean_text(to_remove_caracters, \n",
    "                                                       stop_words))"
   ]
  },
  {
   "cell_type": "code",
   "execution_count": 20,
   "metadata": {},
   "outputs": [],
   "source": [
    "data, tokenizer = get_sequences(vocabulary_size=MAX_NB_WORDS, maxlen=MAX_SEQUENCE_LENGTH, texts=tweets_df['text'])"
   ]
  },
  {
   "cell_type": "code",
   "execution_count": 21,
   "metadata": {},
   "outputs": [],
   "source": [
    "test_data, _ = get_sequences(vocabulary_size=MAX_NB_WORDS, maxlen=MAX_SEQUENCE_LENGTH, \n",
    "                          texts=tweets_test_df['text'], tokenizer=tokenizer)"
   ]
  },
  {
   "cell_type": "code",
   "execution_count": 22,
   "metadata": {},
   "outputs": [],
   "source": [
    "pretrained_embeddings_path = PATH_RAW + \"GoogleNews-vectors-negative300.bin\"\n",
    "word2vec = KeyedVectors.load_word2vec_format(pretrained_embeddings_path, binary=True)"
   ]
  },
  {
   "cell_type": "code",
   "execution_count": 23,
   "metadata": {},
   "outputs": [],
   "source": [
    "embedding_matrix = get_embedding_matrix(tokenizer=tokenizer, \n",
    "                                        word2vec=word2vec, \n",
    "                                        max_nb_words=MAX_NB_WORDS, \n",
    "                                        enbedding_dim=EMBEDDING_DIM)"
   ]
  },
  {
   "cell_type": "markdown",
   "metadata": {},
   "source": [
    "# Train test split"
   ]
  },
  {
   "cell_type": "code",
   "execution_count": 24,
   "metadata": {},
   "outputs": [
    {
     "name": "stdout",
     "output_type": "stream",
     "text": [
      "(4567, 50) (2284, 50) (762, 50)\n"
     ]
    }
   ],
   "source": [
    "X_train, X_val, y_train, y_val = train_test_split(data, tweets_df['target'], test_size=0.4)\n",
    "X_val, X_test, y_val, y_test = train_test_split(X_val, y_val)\n",
    "\n",
    "print(X_train.shape, X_val.shape, X_test.shape)"
   ]
  },
  {
   "cell_type": "markdown",
   "metadata": {},
   "source": [
    "# Create Model"
   ]
  },
  {
   "cell_type": "markdown",
   "metadata": {},
   "source": [
    "## Baseline"
   ]
  },
  {
   "cell_type": "code",
   "execution_count": 25,
   "metadata": {},
   "outputs": [],
   "source": [
    "baseline_model = DummyClassifier(strategy=\"most_frequent\")"
   ]
  },
  {
   "cell_type": "markdown",
   "metadata": {},
   "source": [
    "### Train"
   ]
  },
  {
   "cell_type": "code",
   "execution_count": 26,
   "metadata": {},
   "outputs": [
    {
     "data": {
      "text/plain": [
       "DummyClassifier(strategy='most_frequent')"
      ]
     },
     "execution_count": 26,
     "metadata": {},
     "output_type": "execute_result"
    }
   ],
   "source": [
    "baseline_model.fit(X_train,y_train)"
   ]
  },
  {
   "cell_type": "markdown",
   "metadata": {},
   "source": [
    "### Test"
   ]
  },
  {
   "cell_type": "code",
   "execution_count": 27,
   "metadata": {
    "scrolled": true
   },
   "outputs": [],
   "source": [
    "baseline_pre_on_test = baseline_model.predict(X_test)"
   ]
  },
  {
   "cell_type": "code",
   "execution_count": 28,
   "metadata": {},
   "outputs": [
    {
     "name": "stdout",
     "output_type": "stream",
     "text": [
      "The mae for the baseline on test set is 0.4094488188976378\n"
     ]
    }
   ],
   "source": [
    "baseline_mae = mean_absolute_error(y_test, baseline_pre_on_test)\n",
    "print(f'The mae for the baseline on test set is {baseline_mae}')"
   ]
  },
  {
   "cell_type": "code",
   "execution_count": 29,
   "metadata": {
    "scrolled": true
   },
   "outputs": [
    {
     "data": {
      "text/plain": [
       "array([[450.],\n",
       "       [312.]])"
      ]
     },
     "execution_count": 29,
     "metadata": {},
     "output_type": "execute_result"
    },
    {
     "data": {
      "image/png": "[encoded data removed]",
      "text/plain": [
       "<Figure size 504x360 with 2 Axes>"
      ]
     },
     "metadata": {
      "needs_background": "light"
     },
     "output_type": "display_data"
    }
   ],
   "source": [
    "get_categorial_confusion_matrix(y_test, baseline_pre_on_test, display=True)"
   ]
  },
  {
   "cell_type": "markdown",
   "metadata": {},
   "source": [
    "## GRU model"
   ]
  },
  {
   "cell_type": "code",
   "execution_count": 30,
   "metadata": {},
   "outputs": [
    {
     "name": "stdout",
     "output_type": "stream",
     "text": [
      "Model: \"functional_1\"\n",
      "_________________________________________________________________\n",
      "Layer (type)                 Output Shape              Param #   \n",
      "=================================================================\n",
      "input_1 (InputLayer)         [(None, 50)]              0         \n",
      "_________________________________________________________________\n",
      "embedding (Embedding)        (None, 50, 300)           6000000   \n",
      "_________________________________________________________________\n",
      "gru (GRU)                    (None, 50, 128)           165120    \n",
      "_________________________________________________________________\n",
      "gru_1 (GRU)                  (None, 50, 64)            37248     \n",
      "_________________________________________________________________\n",
      "gru_2 (GRU)                  (None, 50, 32)            9408      \n",
      "_________________________________________________________________\n",
      "time_distributed (TimeDistri (None, 50, 32)            1056      \n",
      "_________________________________________________________________\n",
      "dropout (Dropout)            (None, 50, 32)            0         \n",
      "_________________________________________________________________\n",
      "time_distributed_1 (TimeDist (None, 50, 32)            1056      \n",
      "_________________________________________________________________\n",
      "time_distributed_2 (TimeDist (None, 50, 16)            528       \n",
      "_________________________________________________________________\n",
      "dropout_1 (Dropout)          (None, 50, 16)            0         \n",
      "_________________________________________________________________\n",
      "time_distributed_3 (TimeDist (None, 50, 16)            272       \n",
      "_________________________________________________________________\n",
      "flatten (Flatten)            (None, 800)               0         \n",
      "_________________________________________________________________\n",
      "dense_4 (Dense)              (None, 100)               80100     \n",
      "_________________________________________________________________\n",
      "activation (Activation)      (None, 100)               0         \n",
      "_________________________________________________________________\n",
      "dropout_2 (Dropout)          (None, 100)               0         \n",
      "_________________________________________________________________\n",
      "batch_normalization (BatchNo (None, 100)               400       \n",
      "_________________________________________________________________\n",
      "dense_5 (Dense)              (None, 10)                1010      \n",
      "_________________________________________________________________\n",
      "activation_1 (Activation)    (None, 10)                0         \n",
      "_________________________________________________________________\n",
      "dropout_3 (Dropout)          (None, 10)                0         \n",
      "_________________________________________________________________\n",
      "batch_normalization_1 (Batch (None, 10)                40        \n",
      "_________________________________________________________________\n",
      "dense_6 (Dense)              (None, 1)                 11        \n",
      "_________________________________________________________________\n",
      "strong_out (Activation)      (None, 1)                 0         \n",
      "=================================================================\n",
      "Total params: 6,296,249\n",
      "Trainable params: 296,029\n",
      "Non-trainable params: 6,000,220\n",
      "_________________________________________________________________\n"
     ]
    }
   ],
   "source": [
    "model = get_model(vocabulary_size=MAX_NB_WORDS, embeding_dim=EMBEDDING_DIM, \n",
    "                  max_sequence_length=MAX_SEQUENCE_LENGTH,_rnn_nb=[128, 64, 32], _fc_nb=[32, 16], dropout_rate=0.5) \n",
    "model.summary()"
   ]
  },
  {
   "cell_type": "markdown",
   "metadata": {},
   "source": [
    "### Train"
   ]
  },
  {
   "cell_type": "code",
   "execution_count": 31,
   "metadata": {
    "scrolled": true
   },
   "outputs": [
    {
     "name": "stdout",
     "output_type": "stream",
     "text": [
      "Epoch 1/100\n",
      "72/72 [==============================] - 12s 163ms/step - loss: 0.8784 - accuracy: 0.4979 - val_loss: 0.8330 - val_accuracy: 0.5679\n",
      "Epoch 2/100\n",
      "72/72 [==============================] - 10s 138ms/step - loss: 0.8121 - accuracy: 0.5049 - val_loss: 0.7159 - val_accuracy: 0.5679\n",
      "Epoch 3/100\n",
      "72/72 [==============================] - 10s 145ms/step - loss: 0.7533 - accuracy: 0.5268 - val_loss: 0.6861 - val_accuracy: 0.5679\n",
      "Epoch 4/100\n",
      "72/72 [==============================] - 10s 139ms/step - loss: 0.7471 - accuracy: 0.5295 - val_loss: 0.6909 - val_accuracy: 0.5311\n",
      "Epoch 5/100\n",
      "72/72 [==============================] - 10s 143ms/step - loss: 0.7345 - accuracy: 0.5172 - val_loss: 0.6799 - val_accuracy: 0.5775\n",
      "Epoch 6/100\n",
      "72/72 [==============================] - 10s 142ms/step - loss: 0.7235 - accuracy: 0.5224 - val_loss: 0.6803 - val_accuracy: 0.5679\n",
      "Epoch 7/100\n",
      "72/72 [==============================] - 10s 140ms/step - loss: 0.7140 - accuracy: 0.5334 - val_loss: 0.6779 - val_accuracy: 0.5679\n",
      "Epoch 8/100\n",
      "72/72 [==============================] - 10s 134ms/step - loss: 0.7040 - accuracy: 0.5417 - val_loss: 0.6784 - val_accuracy: 0.5679\n",
      "Epoch 9/100\n",
      "72/72 [==============================] - 9s 128ms/step - loss: 0.7015 - accuracy: 0.5338 - val_loss: 0.6765 - val_accuracy: 0.5876\n",
      "Epoch 10/100\n",
      "72/72 [==============================] - 9s 127ms/step - loss: 0.6948 - accuracy: 0.5459 - val_loss: 0.6742 - val_accuracy: 0.5972\n",
      "Epoch 11/100\n",
      "72/72 [==============================] - 9s 129ms/step - loss: 0.6963 - accuracy: 0.5422 - val_loss: 0.6876 - val_accuracy: 0.5679\n",
      "Epoch 12/100\n",
      "72/72 [==============================] - 9s 128ms/step - loss: 0.6963 - accuracy: 0.5459 - val_loss: 0.6853 - val_accuracy: 0.5679\n",
      "Epoch 13/100\n",
      "72/72 [==============================] - 9s 128ms/step - loss: 0.6882 - accuracy: 0.5507 - val_loss: 0.6810 - val_accuracy: 0.5679\n",
      "Epoch 14/100\n",
      "72/72 [==============================] - 9s 132ms/step - loss: 0.6853 - accuracy: 0.5535 - val_loss: 0.6874 - val_accuracy: 0.5679\n",
      "Epoch 15/100\n",
      "72/72 [==============================] - 10s 137ms/step - loss: 0.6881 - accuracy: 0.5524 - val_loss: 0.6737 - val_accuracy: 0.5679\n",
      "Epoch 16/100\n",
      "72/72 [==============================] - 10s 136ms/step - loss: 0.6795 - accuracy: 0.5673 - val_loss: 0.6899 - val_accuracy: 0.5679\n",
      "Epoch 17/100\n",
      "72/72 [==============================] - 10s 134ms/step - loss: 0.6629 - accuracy: 0.6074 - val_loss: 0.6603 - val_accuracy: 0.5906\n",
      "Epoch 18/100\n",
      "72/72 [==============================] - 10s 137ms/step - loss: 0.6585 - accuracy: 0.6157 - val_loss: 0.6461 - val_accuracy: 0.6151\n",
      "Epoch 19/100\n",
      "72/72 [==============================] - 10s 134ms/step - loss: 0.6638 - accuracy: 0.6002 - val_loss: 0.6727 - val_accuracy: 0.5661\n",
      "Epoch 20/100\n",
      "72/72 [==============================] - 10s 132ms/step - loss: 0.6454 - accuracy: 0.6367 - val_loss: 0.6173 - val_accuracy: 0.6751\n",
      "Epoch 21/100\n",
      "72/72 [==============================] - 10s 136ms/step - loss: 0.6443 - accuracy: 0.6278 - val_loss: 0.6179 - val_accuracy: 0.6835\n",
      "Epoch 22/100\n",
      "72/72 [==============================] - 10s 133ms/step - loss: 0.6342 - accuracy: 0.6462 - val_loss: 0.6460 - val_accuracy: 0.6195\n",
      "Epoch 23/100\n",
      "72/72 [==============================] - 10s 136ms/step - loss: 0.6347 - accuracy: 0.6554 - val_loss: 0.6162 - val_accuracy: 0.6747\n",
      "Epoch 24/100\n",
      "72/72 [==============================] - 9s 131ms/step - loss: 0.6300 - accuracy: 0.6564 - val_loss: 0.6043 - val_accuracy: 0.7049\n",
      "Epoch 25/100\n",
      "72/72 [==============================] - 10s 134ms/step - loss: 0.6343 - accuracy: 0.6501 - val_loss: 0.6038 - val_accuracy: 0.6918\n",
      "Epoch 26/100\n",
      "72/72 [==============================] - 10s 135ms/step - loss: 0.6251 - accuracy: 0.6637 - val_loss: 0.6015 - val_accuracy: 0.6874\n",
      "Epoch 27/100\n",
      "72/72 [==============================] - 10s 135ms/step - loss: 0.6195 - accuracy: 0.6777 - val_loss: 0.6048 - val_accuracy: 0.6979\n",
      "Epoch 28/100\n",
      "72/72 [==============================] - 10s 135ms/step - loss: 0.6227 - accuracy: 0.6696 - val_loss: 0.6248 - val_accuracy: 0.6532\n",
      "Epoch 29/100\n",
      "72/72 [==============================] - 10s 134ms/step - loss: 0.6158 - accuracy: 0.6777 - val_loss: 0.6066 - val_accuracy: 0.6799\n",
      "Epoch 30/100\n",
      "72/72 [==============================] - 10s 133ms/step - loss: 0.6121 - accuracy: 0.6812 - val_loss: 0.6100 - val_accuracy: 0.6988\n",
      "Epoch 31/100\n",
      "72/72 [==============================] - 9s 130ms/step - loss: 0.6185 - accuracy: 0.6735 - val_loss: 0.6579 - val_accuracy: 0.6156\n",
      "Epoch 32/100\n",
      "72/72 [==============================] - 9s 129ms/step - loss: 0.6166 - accuracy: 0.6794 - val_loss: 0.6511 - val_accuracy: 0.6567\n",
      "Epoch 33/100\n",
      "72/72 [==============================] - 9s 127ms/step - loss: 0.6125 - accuracy: 0.6770 - val_loss: 0.6035 - val_accuracy: 0.6996\n",
      "Epoch 34/100\n",
      "72/72 [==============================] - 10s 134ms/step - loss: 0.6071 - accuracy: 0.6832 - val_loss: 0.6236 - val_accuracy: 0.6808\n",
      "Epoch 35/100\n",
      "72/72 [==============================] - 9s 131ms/step - loss: 0.6096 - accuracy: 0.6860 - val_loss: 0.6076 - val_accuracy: 0.6778\n",
      "Epoch 36/100\n",
      "72/72 [==============================] - 10s 133ms/step - loss: 0.6003 - accuracy: 0.6987 - val_loss: 0.5987 - val_accuracy: 0.6948\n",
      "Epoch 37/100\n",
      "72/72 [==============================] - 10s 134ms/step - loss: 0.6122 - accuracy: 0.6814 - val_loss: 0.6257 - val_accuracy: 0.6620\n",
      "Epoch 38/100\n",
      "72/72 [==============================] - 9s 131ms/step - loss: 0.5961 - accuracy: 0.6989 - val_loss: 0.6303 - val_accuracy: 0.6550\n",
      "Epoch 39/100\n",
      "72/72 [==============================] - 9s 130ms/step - loss: 0.5941 - accuracy: 0.7057 - val_loss: 0.5861 - val_accuracy: 0.7080\n",
      "Epoch 40/100\n",
      "72/72 [==============================] - 9s 129ms/step - loss: 0.5965 - accuracy: 0.7044 - val_loss: 0.5955 - val_accuracy: 0.6979\n",
      "Epoch 41/100\n",
      "72/72 [==============================] - 9s 127ms/step - loss: 0.6031 - accuracy: 0.6945 - val_loss: 0.6139 - val_accuracy: 0.6839\n",
      "Epoch 42/100\n",
      "72/72 [==============================] - 10s 134ms/step - loss: 0.6011 - accuracy: 0.6967 - val_loss: 0.5972 - val_accuracy: 0.6918\n",
      "Epoch 43/100\n",
      "72/72 [==============================] - 10s 136ms/step - loss: 0.5971 - accuracy: 0.7018 - val_loss: 0.5908 - val_accuracy: 0.7075\n",
      "Epoch 44/100\n",
      "72/72 [==============================] - 10s 134ms/step - loss: 0.5969 - accuracy: 0.7000 - val_loss: 0.6275 - val_accuracy: 0.6821\n",
      "Epoch 45/100\n",
      "72/72 [==============================] - 10s 135ms/step - loss: 0.5949 - accuracy: 0.7013 - val_loss: 0.6077 - val_accuracy: 0.7014\n",
      "Epoch 46/100\n",
      "72/72 [==============================] - 10s 136ms/step - loss: 0.5931 - accuracy: 0.7055 - val_loss: 0.5957 - val_accuracy: 0.6887\n",
      "Epoch 47/100\n",
      "72/72 [==============================] - 10s 132ms/step - loss: 0.5921 - accuracy: 0.7136 - val_loss: 0.6281 - val_accuracy: 0.6664\n",
      "Epoch 48/100\n",
      "72/72 [==============================] - 10s 135ms/step - loss: 0.5883 - accuracy: 0.7105 - val_loss: 0.5966 - val_accuracy: 0.6961\n",
      "Epoch 49/100\n",
      "72/72 [==============================] - 10s 136ms/step - loss: 0.5935 - accuracy: 0.7040 - val_loss: 0.5928 - val_accuracy: 0.7075\n",
      "Epoch 50/100\n",
      "72/72 [==============================] - 10s 134ms/step - loss: 0.5793 - accuracy: 0.7121 - val_loss: 0.5850 - val_accuracy: 0.7080\n",
      "Epoch 51/100\n",
      "72/72 [==============================] - 10s 134ms/step - loss: 0.5762 - accuracy: 0.7235 - val_loss: 0.6104 - val_accuracy: 0.7045\n",
      "Epoch 52/100\n",
      "72/72 [==============================] - 10s 132ms/step - loss: 0.5886 - accuracy: 0.7184 - val_loss: 0.6115 - val_accuracy: 0.6957\n",
      "Epoch 53/100\n",
      "72/72 [==============================] - 10s 132ms/step - loss: 0.5795 - accuracy: 0.7195 - val_loss: 0.6059 - val_accuracy: 0.6813\n",
      "Epoch 54/100\n",
      "72/72 [==============================] - 9s 130ms/step - loss: 0.5865 - accuracy: 0.7088 - val_loss: 0.6051 - val_accuracy: 0.7001\n",
      "Epoch 55/100\n",
      "72/72 [==============================] - 9s 131ms/step - loss: 0.5770 - accuracy: 0.7199 - val_loss: 0.5939 - val_accuracy: 0.7106\n",
      "Epoch 56/100\n",
      "72/72 [==============================] - 10s 135ms/step - loss: 0.5728 - accuracy: 0.7245 - val_loss: 0.6062 - val_accuracy: 0.7062\n",
      "Epoch 57/100\n",
      "72/72 [==============================] - 9s 132ms/step - loss: 0.5846 - accuracy: 0.7153 - val_loss: 0.5890 - val_accuracy: 0.7018\n"
     ]
    },
    {
     "name": "stdout",
     "output_type": "stream",
     "text": [
      "Epoch 58/100\n",
      "72/72 [==============================] - 10s 133ms/step - loss: 0.5738 - accuracy: 0.7243 - val_loss: 0.5928 - val_accuracy: 0.6961\n",
      "Epoch 59/100\n",
      "72/72 [==============================] - 10s 134ms/step - loss: 0.5833 - accuracy: 0.7160 - val_loss: 0.6123 - val_accuracy: 0.7001\n",
      "Epoch 60/100\n",
      "72/72 [==============================] - 10s 132ms/step - loss: 0.5808 - accuracy: 0.7182 - val_loss: 0.6166 - val_accuracy: 0.6778\n",
      "Epoch 61/100\n",
      "72/72 [==============================] - 11s 146ms/step - loss: 0.5769 - accuracy: 0.7182 - val_loss: 0.5987 - val_accuracy: 0.7123\n",
      "Epoch 62/100\n",
      "72/72 [==============================] - 10s 134ms/step - loss: 0.5719 - accuracy: 0.7274 - val_loss: 0.5832 - val_accuracy: 0.7088\n",
      "Epoch 63/100\n",
      "72/72 [==============================] - 10s 132ms/step - loss: 0.5757 - accuracy: 0.7182 - val_loss: 0.5865 - val_accuracy: 0.6975\n",
      "Epoch 64/100\n",
      "72/72 [==============================] - 10s 136ms/step - loss: 0.5818 - accuracy: 0.7083 - val_loss: 0.5771 - val_accuracy: 0.7128\n",
      "Epoch 65/100\n",
      "72/72 [==============================] - 9s 130ms/step - loss: 0.5676 - accuracy: 0.7298 - val_loss: 0.5943 - val_accuracy: 0.6940\n",
      "Epoch 66/100\n",
      "72/72 [==============================] - 10s 135ms/step - loss: 0.5693 - accuracy: 0.7243 - val_loss: 0.5815 - val_accuracy: 0.7119\n",
      "Epoch 67/100\n",
      "72/72 [==============================] - 9s 131ms/step - loss: 0.5692 - accuracy: 0.7300 - val_loss: 0.5786 - val_accuracy: 0.7049\n",
      "Epoch 68/100\n",
      "72/72 [==============================] - 10s 135ms/step - loss: 0.5678 - accuracy: 0.7305 - val_loss: 0.6037 - val_accuracy: 0.7045\n",
      "Epoch 69/100\n",
      "72/72 [==============================] - 10s 141ms/step - loss: 0.5693 - accuracy: 0.7280 - val_loss: 0.5864 - val_accuracy: 0.7115\n",
      "Epoch 70/100\n",
      "72/72 [==============================] - 10s 138ms/step - loss: 0.5728 - accuracy: 0.7221 - val_loss: 0.6079 - val_accuracy: 0.6905\n",
      "Epoch 71/100\n",
      "72/72 [==============================] - 10s 136ms/step - loss: 0.5648 - accuracy: 0.7287 - val_loss: 0.5911 - val_accuracy: 0.7093\n",
      "Epoch 72/100\n",
      "72/72 [==============================] - 10s 132ms/step - loss: 0.5718 - accuracy: 0.7261 - val_loss: 0.5815 - val_accuracy: 0.7023\n",
      "Epoch 73/100\n",
      "72/72 [==============================] - 9s 131ms/step - loss: 0.5660 - accuracy: 0.7287 - val_loss: 0.5921 - val_accuracy: 0.7102\n",
      "Epoch 74/100\n",
      "72/72 [==============================] - 10s 132ms/step - loss: 0.5474 - accuracy: 0.7471 - val_loss: 0.6088 - val_accuracy: 0.7088\n",
      "Epoch 75/100\n",
      "72/72 [==============================] - 10s 134ms/step - loss: 0.5607 - accuracy: 0.7388 - val_loss: 0.6013 - val_accuracy: 0.7018\n",
      "Epoch 76/100\n",
      "72/72 [==============================] - 10s 132ms/step - loss: 0.5692 - accuracy: 0.7285 - val_loss: 0.5847 - val_accuracy: 0.7145\n",
      "Epoch 77/100\n",
      "72/72 [==============================] - 9s 128ms/step - loss: 0.5675 - accuracy: 0.7239 - val_loss: 0.5877 - val_accuracy: 0.6896\n",
      "Epoch 78/100\n",
      "72/72 [==============================] - 9s 127ms/step - loss: 0.5582 - accuracy: 0.7256 - val_loss: 0.5770 - val_accuracy: 0.7123\n",
      "Epoch 79/100\n",
      "72/72 [==============================] - 9s 128ms/step - loss: 0.5565 - accuracy: 0.7357 - val_loss: 0.5800 - val_accuracy: 0.7163\n",
      "Epoch 80/100\n",
      "72/72 [==============================] - 9s 130ms/step - loss: 0.5516 - accuracy: 0.7486 - val_loss: 0.5823 - val_accuracy: 0.7067\n",
      "Epoch 81/100\n",
      "72/72 [==============================] - 9s 132ms/step - loss: 0.5648 - accuracy: 0.7267 - val_loss: 0.5982 - val_accuracy: 0.6975\n",
      "Epoch 82/100\n",
      "72/72 [==============================] - 10s 135ms/step - loss: 0.5580 - accuracy: 0.7305 - val_loss: 0.5917 - val_accuracy: 0.7040\n",
      "Epoch 83/100\n",
      "72/72 [==============================] - 10s 140ms/step - loss: 0.5637 - accuracy: 0.7344 - val_loss: 0.5881 - val_accuracy: 0.6953\n",
      "Epoch 84/100\n",
      "72/72 [==============================] - 10s 136ms/step - loss: 0.5574 - accuracy: 0.7362 - val_loss: 0.6226 - val_accuracy: 0.6843\n",
      "Epoch 85/100\n",
      "72/72 [==============================] - 9s 131ms/step - loss: 0.5460 - accuracy: 0.7436 - val_loss: 0.5986 - val_accuracy: 0.6970\n",
      "Epoch 86/100\n",
      "72/72 [==============================] - 9s 130ms/step - loss: 0.5481 - accuracy: 0.7425 - val_loss: 0.6341 - val_accuracy: 0.6900\n",
      "Epoch 87/100\n",
      "72/72 [==============================] - 9s 129ms/step - loss: 0.5508 - accuracy: 0.7480 - val_loss: 0.6255 - val_accuracy: 0.7058\n",
      "Epoch 88/100\n",
      "72/72 [==============================] - 9s 131ms/step - loss: 0.5781 - accuracy: 0.7193 - val_loss: 0.5804 - val_accuracy: 0.7106\n",
      "Epoch 89/100\n",
      "72/72 [==============================] - 10s 136ms/step - loss: 0.5462 - accuracy: 0.7502 - val_loss: 0.5768 - val_accuracy: 0.7123\n",
      "Epoch 90/100\n",
      "72/72 [==============================] - 10s 135ms/step - loss: 0.5486 - accuracy: 0.7451 - val_loss: 0.5969 - val_accuracy: 0.7141\n",
      "Epoch 91/100\n",
      "72/72 [==============================] - 10s 136ms/step - loss: 0.5619 - accuracy: 0.7383 - val_loss: 0.5769 - val_accuracy: 0.7141\n",
      "Epoch 92/100\n",
      "72/72 [==============================] - 10s 138ms/step - loss: 0.5508 - accuracy: 0.7390 - val_loss: 0.6008 - val_accuracy: 0.7084\n",
      "Epoch 93/100\n",
      "72/72 [==============================] - 9s 132ms/step - loss: 0.5613 - accuracy: 0.7379 - val_loss: 0.5683 - val_accuracy: 0.7229\n",
      "Epoch 94/100\n",
      "72/72 [==============================] - 10s 132ms/step - loss: 0.5512 - accuracy: 0.7440 - val_loss: 0.5782 - val_accuracy: 0.7145\n",
      "Epoch 95/100\n",
      "72/72 [==============================] - 10s 136ms/step - loss: 0.5457 - accuracy: 0.7462 - val_loss: 0.5861 - val_accuracy: 0.7189\n",
      "Epoch 96/100\n",
      "72/72 [==============================] - 10s 136ms/step - loss: 0.5551 - accuracy: 0.7414 - val_loss: 0.6052 - val_accuracy: 0.7005\n",
      "Epoch 97/100\n",
      "72/72 [==============================] - 10s 134ms/step - loss: 0.5777 - accuracy: 0.7105 - val_loss: 0.5814 - val_accuracy: 0.7198\n",
      "Epoch 98/100\n",
      "72/72 [==============================] - 9s 131ms/step - loss: 0.5847 - accuracy: 0.7184 - val_loss: 0.5841 - val_accuracy: 0.7137\n",
      "Epoch 99/100\n",
      "72/72 [==============================] - 9s 131ms/step - loss: 0.5622 - accuracy: 0.7302 - val_loss: 0.6520 - val_accuracy: 0.6830\n",
      "Epoch 100/100\n",
      "72/72 [==============================] - 10s 132ms/step - loss: 0.5579 - accuracy: 0.7445 - val_loss: 0.5999 - val_accuracy: 0.7075\n"
     ]
    },
    {
     "data": {
      "text/plain": [
       "<tensorflow.python.keras.callbacks.History at 0x14c81bd30>"
      ]
     },
     "execution_count": 31,
     "metadata": {},
     "output_type": "execute_result"
    }
   ],
   "source": [
    "model.fit(\n",
    "    X_train,\n",
    "    y_train,\n",
    "    batch_size=64,\n",
    "    epochs=100,\n",
    "    validation_data=(X_val, y_val),\n",
    ")"
   ]
  },
  {
   "cell_type": "markdown",
   "metadata": {},
   "source": [
    "### Finding the best threshold"
   ]
  },
  {
   "cell_type": "code",
   "execution_count": 32,
   "metadata": {},
   "outputs": [],
   "source": [
    "pred_proba_train = model.predict(X_train)\n",
    "pred_proba_val = model.predict(X_val)"
   ]
  },
  {
   "cell_type": "code",
   "execution_count": 33,
   "metadata": {
    "scrolled": false
   },
   "outputs": [
    {
     "name": "stdout",
     "output_type": "stream",
     "text": [
      "Train Accuracy: 0.8202320998467265 \n",
      "Train Confusion Matrix:\n",
      "[[2448  147]\n",
      " [ 674 1298]]\n",
      "Test Accuracy: 0.718476357267951 \n",
      "Test Confusion Matrix:\n",
      "[[1111  186]\n",
      " [ 457  530]]\n"
     ]
    },
    {
     "data": {
      "image/png": "[encoded data removed]",
      "text/plain": [
       "<Figure size 1440x720 with 1 Axes>"
      ]
     },
     "metadata": {
      "needs_background": "light"
     },
     "output_type": "display_data"
    }
   ],
   "source": [
    "threshold = plot_roc_curve_mean(y_train=y_train.values, y_train_pred_proba=pred_proba_train, \n",
    "                        y_test=y_val.values, y_test_pred_proba=pred_proba_val)"
   ]
  },
  {
   "cell_type": "markdown",
   "metadata": {},
   "source": [
    "### Test"
   ]
  },
  {
   "cell_type": "code",
   "execution_count": 34,
   "metadata": {
    "scrolled": true
   },
   "outputs": [
    {
     "name": "stdout",
     "output_type": "stream",
     "text": [
      "24/24 [==============================] - 0s 20ms/step - loss: 0.5968 - accuracy: 0.7047\n"
     ]
    },
    {
     "data": {
      "text/plain": [
       "[0.5967987775802612, 0.7047244310379028]"
      ]
     },
     "execution_count": 34,
     "metadata": {},
     "output_type": "execute_result"
    }
   ],
   "source": [
    "model.evaluate(X_test, y_test)"
   ]
  },
  {
   "cell_type": "code",
   "execution_count": 35,
   "metadata": {},
   "outputs": [],
   "source": [
    "pred_proba_test = model.predict(X_test).reshape(-1)\n",
    "pred_proba_test = (pred_proba_test > threshold).astype(int)"
   ]
  },
  {
   "cell_type": "code",
   "execution_count": 36,
   "metadata": {},
   "outputs": [
    {
     "data": {
      "text/plain": [
       "array([[391.,  59.],\n",
       "       [162., 150.]])"
      ]
     },
     "execution_count": 36,
     "metadata": {},
     "output_type": "execute_result"
    },
    {
     "data": {
      "image/png": "[encoded data removed]",
      "text/plain": [
       "<Figure size 504x360 with 2 Axes>"
      ]
     },
     "metadata": {
      "needs_background": "light"
     },
     "output_type": "display_data"
    }
   ],
   "source": [
    "get_categorial_confusion_matrix(y_test, pred_proba_test, display=True)"
   ]
  },
  {
   "cell_type": "markdown",
   "metadata": {},
   "source": [
    "# Predict"
   ]
  },
  {
   "cell_type": "code",
   "execution_count": 37,
   "metadata": {},
   "outputs": [],
   "source": [
    "predictions = model.predict(test_data)\n",
    "predictions = (predictions > threshold).astype(int)"
   ]
  },
  {
   "cell_type": "code",
   "execution_count": 38,
   "metadata": {},
   "outputs": [],
   "source": [
    "output = pd.read_csv(PATH_RAW + 'sample_submission.csv')\n",
    "output['target'] = predictions\n",
    "output.to_csv(PATH_PROCESSED + 'to_submit.csv', index=False)"
   ]
  },
  {
   "cell_type": "code",
   "execution_count": null,
   "metadata": {},
   "outputs": [],
   "source": []
  }
 ],
 "metadata": {
  "kernelspec": {
   "display_name": "Python 3",
   "language": "python",
   "name": "python3"
  },
  "language_info": {
   "codemirror_mode": {
    "name": "ipython",
    "version": 3
   },
   "file_extension": ".py",
   "mimetype": "text/x-python",
   "name": "python",
   "nbconvert_exporter": "python",
   "pygments_lexer": "ipython3",
   "version": "3.8.5"
  }
 },
 "nbformat": 4,
 "nbformat_minor": 4
}
